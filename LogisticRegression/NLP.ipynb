{
 "cells": [
  {
   "cell_type": "code",
   "execution_count": 1,
   "metadata": {},
   "outputs": [],
   "source": [
    "import pandas as pd\n",
    "import os\n",
    "import nltk\n",
    "import datetime as dt\n",
    "import numpy as np\n",
    "from datetime import timedelta"
   ]
  },
  {
   "cell_type": "code",
   "execution_count": 2,
   "metadata": {},
   "outputs": [
    {
     "data": {
      "text/html": [
       "<div>\n",
       "<style scoped>\n",
       "    .dataframe tbody tr th:only-of-type {\n",
       "        vertical-align: middle;\n",
       "    }\n",
       "\n",
       "    .dataframe tbody tr th {\n",
       "        vertical-align: top;\n",
       "    }\n",
       "\n",
       "    .dataframe thead th {\n",
       "        text-align: right;\n",
       "    }\n",
       "</style>\n",
       "<table border=\"1\" class=\"dataframe\">\n",
       "  <thead>\n",
       "    <tr style=\"text-align: right;\">\n",
       "      <th></th>\n",
       "      <th>Title</th>\n",
       "      <th>URL</th>\n",
       "      <th>Date</th>\n",
       "      <th>Symbol</th>\n",
       "    </tr>\n",
       "  </thead>\n",
       "  <tbody>\n",
       "    <tr>\n",
       "      <th>0</th>\n",
       "      <td>Apple Inc. (AAPL) CEO Tim Cook on Q4 2020 Resu...</td>\n",
       "      <td>/article/4382943-apple-inc-aapl-ceo-tim-cook-o...</td>\n",
       "      <td>10/29/2020</td>\n",
       "      <td>AAPL</td>\n",
       "    </tr>\n",
       "    <tr>\n",
       "      <th>1</th>\n",
       "      <td>Apple Inc. (AAPL) CEO Tim Cook on Q3 2020 Resu...</td>\n",
       "      <td>/article/4362707-apple-inc-aapl-ceo-tim-cook-o...</td>\n",
       "      <td>7/30/2020</td>\n",
       "      <td>AAPL</td>\n",
       "    </tr>\n",
       "    <tr>\n",
       "      <th>2</th>\n",
       "      <td>Apple Inc. (AAPL) CEO Tim Cook on Q2 2020 Resu...</td>\n",
       "      <td>/article/4341792-apple-inc-aapl-ceo-tim-cook-o...</td>\n",
       "      <td>4/30/2020</td>\n",
       "      <td>AAPL</td>\n",
       "    </tr>\n",
       "    <tr>\n",
       "      <th>3</th>\n",
       "      <td>Apple Inc. (AAPL) CEO Tim Cook on Q1 2020 Resu...</td>\n",
       "      <td>/article/4319666-apple-inc-aapl-ceo-tim-cook-o...</td>\n",
       "      <td>1/28/2020</td>\n",
       "      <td>AAPL</td>\n",
       "    </tr>\n",
       "    <tr>\n",
       "      <th>8</th>\n",
       "      <td>AbbVie Inc.'s (ABBV) CEO Rick Gonzalez on Q3 2...</td>\n",
       "      <td>/article/4383381-abbvie-inc-s-abbv-ceo-rick-go...</td>\n",
       "      <td>10/30/2020</td>\n",
       "      <td>ABBV</td>\n",
       "    </tr>\n",
       "    <tr>\n",
       "      <th>...</th>\n",
       "      <td>...</td>\n",
       "      <td>...</td>\n",
       "      <td>...</td>\n",
       "      <td>...</td>\n",
       "    </tr>\n",
       "    <tr>\n",
       "      <th>1031</th>\n",
       "      <td>Walmart, Inc. (WMT) CEO Doug McMillon on Q1 20...</td>\n",
       "      <td>/article/4348814-walmart-inc-wmt-ceo-doug-mcmi...</td>\n",
       "      <td>5/19/2020</td>\n",
       "      <td>WMT</td>\n",
       "    </tr>\n",
       "    <tr>\n",
       "      <th>1035</th>\n",
       "      <td>Exxon Mobil Corporation (XOM) Q3 2020 Results ...</td>\n",
       "      <td>/article/4383411-exxon-mobil-corporation-xom-q...</td>\n",
       "      <td>10/30/2020</td>\n",
       "      <td>XOM</td>\n",
       "    </tr>\n",
       "    <tr>\n",
       "      <th>1037</th>\n",
       "      <td>Exxon Mobil Corp (XOM) Q2 2020 Results - Earni...</td>\n",
       "      <td>/article/4363013-exxon-mobil-corp-xom-q2-2020-...</td>\n",
       "      <td>7/31/2020</td>\n",
       "      <td>XOM</td>\n",
       "    </tr>\n",
       "    <tr>\n",
       "      <th>1039</th>\n",
       "      <td>Exxon Mobil Corporation (XOM) CEO Darren Woods...</td>\n",
       "      <td>/article/4342148-exxon-mobil-corporation-xom-c...</td>\n",
       "      <td>5/1/2020</td>\n",
       "      <td>XOM</td>\n",
       "    </tr>\n",
       "    <tr>\n",
       "      <th>1041</th>\n",
       "      <td>Exxon Mobil Corporation (XOM) CEO Darren Woods...</td>\n",
       "      <td>/article/4320707-exxon-mobil-corporation-xom-c...</td>\n",
       "      <td>1/31/2020</td>\n",
       "      <td>XOM</td>\n",
       "    </tr>\n",
       "  </tbody>\n",
       "</table>\n",
       "<p>402 rows × 4 columns</p>\n",
       "</div>"
      ],
      "text/plain": [
       "                                                  Title  \\\n",
       "0     Apple Inc. (AAPL) CEO Tim Cook on Q4 2020 Resu...   \n",
       "1     Apple Inc. (AAPL) CEO Tim Cook on Q3 2020 Resu...   \n",
       "2     Apple Inc. (AAPL) CEO Tim Cook on Q2 2020 Resu...   \n",
       "3     Apple Inc. (AAPL) CEO Tim Cook on Q1 2020 Resu...   \n",
       "8     AbbVie Inc.'s (ABBV) CEO Rick Gonzalez on Q3 2...   \n",
       "...                                                 ...   \n",
       "1031  Walmart, Inc. (WMT) CEO Doug McMillon on Q1 20...   \n",
       "1035  Exxon Mobil Corporation (XOM) Q3 2020 Results ...   \n",
       "1037  Exxon Mobil Corp (XOM) Q2 2020 Results - Earni...   \n",
       "1039  Exxon Mobil Corporation (XOM) CEO Darren Woods...   \n",
       "1041  Exxon Mobil Corporation (XOM) CEO Darren Woods...   \n",
       "\n",
       "                                                    URL        Date Symbol  \n",
       "0     /article/4382943-apple-inc-aapl-ceo-tim-cook-o...  10/29/2020   AAPL  \n",
       "1     /article/4362707-apple-inc-aapl-ceo-tim-cook-o...   7/30/2020   AAPL  \n",
       "2     /article/4341792-apple-inc-aapl-ceo-tim-cook-o...   4/30/2020   AAPL  \n",
       "3     /article/4319666-apple-inc-aapl-ceo-tim-cook-o...   1/28/2020   AAPL  \n",
       "8     /article/4383381-abbvie-inc-s-abbv-ceo-rick-go...  10/30/2020   ABBV  \n",
       "...                                                 ...         ...    ...  \n",
       "1031  /article/4348814-walmart-inc-wmt-ceo-doug-mcmi...   5/19/2020    WMT  \n",
       "1035  /article/4383411-exxon-mobil-corporation-xom-q...  10/30/2020    XOM  \n",
       "1037  /article/4363013-exxon-mobil-corp-xom-q2-2020-...   7/31/2020    XOM  \n",
       "1039  /article/4342148-exxon-mobil-corporation-xom-c...    5/1/2020    XOM  \n",
       "1041  /article/4320707-exxon-mobil-corporation-xom-c...   1/31/2020    XOM  \n",
       "\n",
       "[402 rows x 4 columns]"
      ]
     },
     "execution_count": 2,
     "metadata": {},
     "output_type": "execute_result"
    }
   ],
   "source": [
    "transcript_path = os.path.join(\"..\", \"transcript_list.csv\")\n",
    "df_all = pd.read_csv(transcript_path)\n",
    "df_ECT = df_all[df_all['Title'].str.contains(\"Earnings Call Transcript\")]\n",
    "df_ECT"
   ]
  },
  {
   "cell_type": "code",
   "execution_count": 3,
   "metadata": {},
   "outputs": [],
   "source": [
    "titles = df_ECT['Title'].tolist()\n",
    "# titles"
   ]
  },
  {
   "cell_type": "code",
   "execution_count": 4,
   "metadata": {},
   "outputs": [
    {
     "data": {
      "text/plain": [
       "\"Apple Inc. (NASDAQ:AAPL) Q4 2020 Earnings Conference Call October 29, 2020  5:00 PM ET\\nCompany Participants \\nTejas Gala - Senior Manager, Corporate Finance and Investor Relations\\nTim Cook - Chief Executive Officer\\nLuca Maestri - Senior Vice President and Chief Financial Officer\\nConference Call Participants\\nShannon Cross - Cross Research\\nJeriel Ong - Deutsche Bank\\nKaty Huberty - Morgan Stanley\\nAmit Daryanani - Evercore\\nSamik Chatterjee - JP Morgan\\nKrish Sankar - Cowen and Company\\nKyle McNealy - Jefferies\\nChris Caso - Raymond James\\nOperator\\nGood day everyone and welcome to the Apple Inc. Fourth Quarter Fiscal Year 2020 Earnings Conference Call. Today’s call is being recorded.\\nAt this time for opening remarks and introductions, I would like to turn things over to Tejas Gala, Senior Analyst, Corporate Finance and Investor Relations. Please go ahead, sir.\\nTejas Gala\\nThank you. Good afternoon and thank you for joining us. Speaking first today is Apple’s CEO, Tim Cook, and he will be followed by CFO, Luca Maestri. After that, we’ll open the call to questions from analysts.\\nPlease note that some of the information you’ll hear during the discussion today, will consist of our forward-looking statements including without limitation those regarding revenue, gross margin, operating expenses, other income and expense, taxes, capital allocation and future business outlook, including the potential impact of COVID-19 on the company’s business, and results of operations. These statements involve risks and uncertainties that may cause actual results or trends to differ materially from our forecast. For more information, please refer to the risk factors discussed in Apple’s most recently filed Annual Report on Form 10-K and the Form 8-K filed with the SEC today, along with the associated press release. Apple assumes no obligation to update any forward-looking statements or information, which speak as of their respective dates.\\nI’d now like to turn the call over to Tim for introductory remarks.\\nTim Cook\\nThanks Tejas. Good afternoon and thanks for joining the call today. Back in April, I said we were in the most challenging environment in which Apple as a company has ever operated. That atmosphere of uncertainty, of resolve, of making difficult calls with limited information has not only come to define Apple’s year, but each of our lives as individuals across this country, and around the world. It has been a chapter that none of us will forget. In the face of these challenges, Apple stayed relentlessly focused on what we do best, seeing in every obstacle an opportunity to do something new, something creative, something better on behalf of our customers.\\nToday we report a quarter and a fiscal year that reflects that effort. This quarter, Apple achieved revenue of $64.7 billion, a September quarter record, despite the anticipated absence of new iPhone availability during the quarter, and the ongoing impacts of COVID-19, including closures at many of our retail locations. We also set a new all-time record for Mac and Services. Outside of iPhone, each of our product categories saw strong double digit year-over-year growth, despite supply constraints in several product categories.\\nOur results for this quarter were ahead of our expectations, driven by stronger-than-expected iPhone and Services performance. As we anticipated, we launched new iPhone models in October, a few weeks later than last year’s mid-September launch. Up to that mid-September point, customer demand for iPhone was very strong, and grew double-digits.\\nOn Services, we saw stronger-than-expected performance across the board. Geographically, we set September quarter records in the Americas, Europe and Rest of Asia Pacific. We also set a September quarter record in India, thanks in part to a very strong reception to this quarter’s launch of our online store in the country. Greater China is the region that was most heavily impacted by the absence of the new iPhones during the September quarter, still we beat our internal expectations in the region, growing non-iPhone revenue strong double digits and iPhone customer demand grew through mid-September.\\nWhen you pull back the lens to the entire fiscal year, it’s a testament to the team’s work and to the resilience of the business in the era of COVID-19. This year, we set an all-time revenue record of $274.5 billion, growing 6% year-on-year. We grew every quarter, set all-time yearly records in Mac, Wearables Home and Accessories, and Services, and grew by double-digits in every product category outside of iPhone.\\nWhen we first began to grapple with COVID-19, I said there are worse things for a company whose business is innovation, than having to periodically do just about everything in an entirely new way. This year, we not only launched our most powerful and compelling generation of hardware, software and Services ever, we did it in a way that pushes to reimagine every part of that innovation process, down to how we share these announcements with the world and how we get new products into our customers’ hands. Working from kitchen tables and bedrooms, in distanced office settings and rework labs and manufacturing facilities, the team rebuilt every part of the plane while it was mid-air, and the results speak for themselves.\\nIn a year that has been enormously challenging, our retail teams, contact centers, and all those who work with our customers most closely, have gone to creative and dedicated [lengths] [ph] to keep serving our customers. From adapting our stores for contactless pickup to new Apple Express storefronts, to new online customer support options. Amid store closings, reopenings and reimagining, these teams have been an unfailing source of energy, creativity and determination.\\nInnovation isn’t just about what you make; it’s about how you approach problems, and these teams and every team across Apple having not faced a single question this year that they haven’t found an answer to with passion and resolve. Their actions didn’t just meet the moment; they will make us a better company moving forward.\\nThe pandemic has hit home for all of us, and at Apple we have seen it as a call to action. We have seen the pain in our communities. Many of us have seen our children work hard to adapt to remote learning, and we all know that the road ahead is uncertain. This quarter and throughout the year, our response to this crisis has been to ask, how can we help?\\nIn terms of COVID-19 response, that has meant sourcing and donating millions of face masks, designing and manufacturing millions of face shields, and scaling the production of millions of test kits. But we have tried to live our values more broadly. We’ve pledged $100 million to our new racial equity and justice initiative. We’ve committed to be fully carbon neutral by 2030 across our entire supply chain and device usage, as massive wildfires, hurricanes and floods, bring home the consequences of climate change for all of us. And we’ve deepened our enduring educational partnerships, from coding education beginning in elementary school, to new efforts with dozens of historically black colleges and universities.\\nOne of the many areas where COVID-19 continues to have a significant impact is in education. As teachers, students and parents alike work hard to keep education relevant, creative and effective, our products have helped them meet the moment. In a typical year, the back-to-school season is a bustling time for us. This year, that was true in the biggest way ever. We’ve helped school districts around the world meet this moment in an unprecedented way, including starting nine of our 10 largest school district deployments ever, that alone will support over 1 million students and teachers. We have also supported these deployments and educators and learners everywhere with free tools and training, reaching over 150,000 teachers and millions of parents and students around the world.\\nLooking forward, we feel great optimism about the road in front of us. We’re in the midst of our most prolific product introduction period ever. In addition to the announcement of HomePod Mini, which achieves unmatched sound quality and Siri and smart-home capabilities in a small and affordable format, we just marked the beginning of a new era for iPhone, with the arrival of our first 5G enabled devices.\\nThe iPhone 12 and 12 Mini boasts powerful breakthroughs like an edge-to-edge Super Retina XDR display, unprecedented durability with a new ceramic shield, developed with our partners at Corning, new MagSafe charging and accessories, the fastest ever A14 Bionic chip, and a new dual camera system, driven by computational photography.\\nThe iPhone 12 Pro and 12 Pro Max take all of this to an even higher level, driven by the most powerful photo and video tools ever delivered by a smartphone, including an all new LiDAR scanner and the ability to shoot an Apple ProRAW and full Dolby video. And of course, all of these devices bring the 5G experience users have been waiting for, with lightning fast download and uploads, a new standard in video streaming, more responsive gaming and much more. The early product reviews have been tremendously positive, and our customers have been similarly excited to get their hands on this next era of devices. We’re very optimistic about what the next few weeks will bring.\\nWe’re also seeing a very positive response to our September announcement, the all new Apple Watch Series 6, boasts powerful new health and wellness features, including a blood oxygen sensor, a next generation altimeter, and a wide variety of new colors and bands. The potential for Apple Watch’s powerful health and wellness capabilities continues to grow.\\nJust yesterday, the government of Singapore and Apple launched LumiHealth, a first of its kind program designed to encourage healthy activity and behaviors using Apple Watch. Created in collaboration with a team of physicians and public health experts, LumiHealth uses technology and behavioral insights to encourage Singaporeans to keep healthy and complete wellness challenges through their Apple Watch and iPhone. Singapore is a trailblazer here, and we’re proud to be their partner.\\nOur iPad lineup continues to set the pace for the category, including the new iPad Air now shipping with the A14 Bionic, our most powerful chip ever. We announced Apple Fitness Plus, which delivers deep personalization and integration across the fitness tools our users love and depend on. And Apple One, launching tomorrow, is the easiest way for users to enjoy Apple’s services, like Music, TV+, Arcade, iCloud, News+ and Fitness+ on a single plan that is right for them and their family.\\nLooking across services more broadly, we’re really excited about what we see. This was a record quarter for the App Store, AppleCare, Cloud Services, Music and Payment Services. The App Store in particular, continues to play an essential role in helping small businesses, educational institutions and workplaces adapt to COVID-19. Apple TV+ continues to impress, from fan favorites like Ted Lasso, which has won a worldwide audience with its hopeful tone during challenging times, to critical and award praise, including a Primetime Emmy for Billy Crudup in the morning show. Luca will speak in greater detail about our expectations for the December quarter. Without giving away too much, I can tell you that this year has a few more exciting things in store.\\nBefore I hand things off, I want to offer one more comment on resilience, because I think if I had to describe our performance this quarter in a single word, it’s resilient. Financial performance aside, I don’t think this year will be a time that any of us look back on with great fondness or nostalgia. Those of us, who wake up every day, hoping for a return to normal, can count ourselves fortunate. Others don’t have that luxury. There is the great pain of a lost loved one, the uncertainty and fear of a lost job, a deep well of concern for people we care about, who we are not able to see. A sense of opportunities missed, of plans delayed, of time lost. Even though we’re apart, it has been obvious this year that around the company, teams and colleagues have been leaning on and counting on each other more than in normal times. I think that instinct, that resilience has been an essential part of how we have navigated this year.\\nWork can’t solve for all the things we’re missing right now, but a shared sense of purpose goes a long way. A belief that we can do more together than we can alone, that people of goodwill, driven by creativity and passion, and that certain itch of a big idea, can still do things that help other people in our own small way to teach, to learn, to create or just to relax at a time like this. Even as the things we make require us to operate at the very cutting edge of technology, in materials, products and ideas that didn’t exist just a few years ago, this year has forced us to face plainly the things that make us human; disease, resilience and hope. You never wished for a year like this one, but I couldn’t be prouder of the team, the work we have done and the small role we have played in helping our communities find hope and resilience in this time.\\nWith that, I’ll hand things over to Luca.\\nLuca Maestri\\nThank you, Tim. Good afternoon, everyone. We are very pleased to report today a new September quarter revenue record, which caps a remarkable level of performance for our fiscal year 2020, during which we set new all-time records for revenue, earnings per share and free cash flow, in spite of an extremely volatile and challenging macro environment. We could not be more proud of the way our team has innovated and executed, throughout this unprecedented period of uncertainty.\\nWe reported total revenue of $64.7 billion for the September quarter, up 1% from a year ago. This is a very impressive level of performance, when we consider that this year; we did not launch and ship any new iPhone models during the quarter. Outside of iPhone, we grew 25% in aggregate, and had strong double-digit year-over-year revenue growth in each of our product categories. We set all-time records for Mac and Services, and a September quarter record for Wearables, Home and Accessories.\\nWe also achieved new September quarter records in the vast majority of countries that we track, including among others, The U.S., Canada Brazil, Germany, France, Italy, Spain, Turkey, Russia, India, Korea, Thailand, Malaysia and Vietnam. Products revenue was $50.1 billion with very strong underlying performance across each product category. Our products outside of iPhone grew a combined 30%, despite supply constraints on iPad, Mac and Apple Watch throughout the quarter. For iPhone, through mid-September, customer demand grew double-digits. As a result of this level of sales performance and the unmatched loyalty of our customers, our installed base of active devices reached an all-time high in aggregate, and in each of our major product categories.\\nOur Services set an all-time record of $14.5 billion, growing 16% year-over-year. We established new all-time records in many Services categories and September quarter records in each geographic segment. I’ll cover this in more detail later.\\nCompany gross margin was 38.2%. This was up 20 basis points sequentially, due to cost savings and a higher mix of services, partially offset by a different mix of products. Products’ gross margin was 29.8%, growing 10 basis points sequentially, driven by cost savings, partially offset by a different mix. Services gross margin was 66.9% decreasing 30 basis points sequentially, mainly due to a different mix.\\nLet me get into more detail for each of our product categories; iPhone revenue was $26.4 billion, as we did not have availability of new iPhone models during the September quarter this year, which we had mentioned during our call in July. While COVID-19 and social distancing measures impacted store operations in a significant manner, demand for iPhone remained very strong. In fact, through mid-September, customer demand for our current product lineup grew double digits, and was well above our expectations.\\nOur active installed base of iPhones reached a new all-time high, thanks to the exceptional loyalty of our customer base and strength of our ecosystem. In fact, in the U.S., the last survey of consumers from 451 Research indicates iPhone customer satisfaction of 98% for iPhone 11, 11 Pro and 11 Pro Max combined.\\nTurning to Services, as I said, we set an all-time revenue record of $14.5 billion. We grew strong double digits and set all-time records in App Store, Cloud Services, Music, Advertising and Payment Services. We also set an all-time record in Apple Care, as in-store traffic improved and we were able to support more customers. Our new services, Apple TV+, Apple Arcade, Apple News+, and Apple Card, are also contributing to overall services growth, and continue to add users, content and features. The key drivers for our Services growth, all continue to be moving in the right direction.\\nFirst, our installed base continues to grow and is at an all-time high across each major product category. Second, the number of both transacting and paid accounts on our digital content stores reached a new all-time high during the September quarter, with paid accounts increasing double digits in each of our geographic segments.\\nThird, paid subscriptions grew more than 35 million sequentially, and we now have over 585 million paid subscriptions across the services on our platform, up 135 million from just a year ago. With this momentum, we are very confident to reach and exceed our increased target of 600 million paid subscriptions before the end of calendar 2020.\\nFinally, as Tim mentioned, we continue to improve the breadth and the quality of our current services offerings, and are adding new service offerings that we think our customers will love, like Apple One and Apple Fitness+.\\nWearables, home and accessories established a new September quarter record, with revenue of $7.9 billion, up 21% year-over-year. We set September quarter records in every geographic segment and for each of the three product categories; Wearables, Home and Accessories. As a result, our wearables business is now the size of a Fortune 130 company. Importantly, Apple Watch continues to extend its reach, with over 75% of the customers purchasing Apple Watch during the quarter, being new to the product. We’re very excited about the future of this category, including the recent launches of our new products; Apple Watch Series 6 NFC, HomePod Mini, and the MagSafe ecosystem of accessories.\\nNext, I’d like to talk about Mac; revenue was by far an all-time record at $9 billion, up 29% over last year and $1.6 billion above our previous record, in spite of supply constraints during the quarter. We grew strong double digits in each geographic segment and set all time revenue records in the Americas, and the rest of Asia Pacific, as well as September quarter records in Europe and Japan.\\nWe’ve seen amazing customer response to the new MacBook Air and MacBook Pro and very strong demand during the back to school season.\\nIPad performance was also very impressive, with revenue of $6.8 billion, up 46%, and our highest September quarter revenue in eight years despite supply constraints. Demand exceeded our expectations around the world, as we grew very strong double digits in every geographic segment, including an all-time record in Japan and a September quarter record in the Americas.\\nBoth Mac and iPad are incredibly relevant products for our customers in the current working and learning environments, and we are delighted that the most recent surveys of consumers from 451 Research, measure customer satisfaction at 93% for Mac and 95% for iPad. With this level of customer satisfaction and with around half of the customers purchasing Mac and iPad during the quarter being new to that product, it is no surprise that the active installed base for both products reached a new all-time high.\\nIn the Enterprise market, our products are helping companies grow their business, while achieving their sustainability goals. One example is Vestas, a leading producer of wind turbines. Vestas is using Apple products and native iOS apps extensively across their operations to deliver renewable energy efficiently to customers worldwide. For instance, they use iPads to help optimize onsite construction operations, cutting crane usage on average by one day per project. Vestas field technicians are using iPhone for work orders, troubleshooting a remote collaboration, saving them 400,000 service hours annually. More recently, they’ve started piloting the augmented reality capability in iPads, to help customers visualize wind turbine installations.\\nWe ended the quarter with almost $192 billion in cash plus marketable securities. We issued $5.5 billion of new term debt, and decreased short term borrowing facilities by $6.2 billion during the quarter, leaving us with total debt of $112 billion. As a result, net cash was $79 billion at the end of the quarter, as we continue on our path to reaching a net cash neutral position over time. We returned nearly $22 billion to shareholders during the September quarter, including $3.5 billion in dividends and equivalents, and $18 billion to open market repurchases of 168.7 million Apple shares. We also retired an additional 3.1 million shares, in the final settlement of our 16th ASR.\\nBefore looking ahead, I want to provide just a few highlights for the amazing fiscal year we just completed. In fiscal ’20, we grew revenue by 6% to $274.5 billion, a new all-time record. We showed remarkable resilience throughout the year, as we were able to grow both revenue and installed base of active devices in every quarter.\\nDuring the September quarter, including $3.5 billion in dividends and equivalents and $18 billion through open market repurchases of 168.7 million Apple shares. We also retired an additional 3.1 million shares in the final settlement of our 16th ASR. Before looking ahead, I want to provide just a few highlights for the amazing fiscal year we just completed. In fiscal 20, we grew revenue by 6% to $274.5 billion and new all-time record.\\nWe showed remarkable resilience throughout the year as we were able to grow both revenue and installed base of active devices in every quarter. In spite of the most challenging economic environment we can remember, we said new revenue records in the Americas, in Europe and in the rest of Asia Pacific. We grow our business outside of iPhone by 16%. We grew earnings per share 10% to a new all-time record and most importantly, we continue to deliver innovative products and services that our customers love.\\nAs we move ahead into the December quarter, I’d like to provide some color on what we are seeing, which includes the types of forward-looking information that Tejas referred to, at the beginning of the call.\\nGiven the continued uncertainty around the world in the near term, we will not be issuing revenue guidance for the coming quarter. However, we are providing some insights on our expectations for the December quarter for our product categories. These directional comments, assume that COVID related impacts to our business in November and December are similar to what we’re seeing in October.\\nWe just started shipping iPhone 12 and 12 Pro, and we’re off to a great start. We are also excited to start preorders on iPhone 12 Mini and 12 Pro Max next Friday. Given the tremendously positive response, we expect iPhone revenue to grow during the December quarter, despite shipping iPhone 12 and 12 Pro four weeks into the quarter, and iPhone 12 Mini and 12 Pro Max seven weeks into the quarter. We expect all other products in aggregate to grow double digits, and we also expect services to continue to grow double digits.\\nFor gross margin, we expect it to be similar to our most recent quarters, despite the costs associated with the launch of several new products. For OpEx, we expect to be between $10.7 billion and $10.8 billion. We expect OI&E to be around $50 million, and the tax rate to be around 16%.\\nFinally today, our Board of Directors has declared a cash dividend of $0.205 per share of common stock, payable November 12, 2020 to shareholders of record as of November 9, 2020.\\nWith that, let’s open the call to questions.\\nTejas Gala\\nThank you, Luca. We ask you that you limit yourself to two questions. Operator, may we have the first question please.\\nQuestion-and-Answer Session\\nOperator\\nCertainly we'll hear first today from Shannon Cross, Cross Research.\\nShannonCross\\nThank you very much. Tim, can you talk a bit more about China? And in terms of linearity, I think Luca, you'd mentioned that services in all regions were up at an all time high. I'm not sure exactly what your comment was. But, maybe give us a little idea of, whether you're seeing any blowback or benefits in the Huawei situation and just dig a bit more into the trends we're seeing in China, and then have a follow up. Thank you.\\nTimCook\\nThanks, Shannon. If you look at China, and look at last quarters, I'll talk about both last quarter and this quarter, the last quarter, what we saw was our non iPhone business was up strong double digit for the full quarter. And then if you look at iPhone and you look at it in two parts one, pre mid September, which is pre the point at which the previous year, we would have launched iPhones that period of time which was the bulk of the quarter iPhone was growing from a customer demand point of view. And of course not shipping new iPhones for the last two weeks of September makes that number in the aggregate a negative but the net is the underlying business in China last quarter was very strong and perhaps very different than you might think from just a quick look at the stated number\\nIn terms of this quarter, given the explanation for last quarter and the momentum that we've got, and as importantly given the initial data points that we see on iPhone 12 and iPhone 12 Pro, although we don't guide to revenue as Lucas said, I would tell you that we're confident that we will grow this quarter in China. And so we're very bullish on what's going on there.\\nA little more color on last quarter, we had a much more significant inventory draw down on the channel side than other regions. And so that is one reason why the numbers are different than other regions. And additionally, the new products in the year ago quarter were a higher percentage of our iPhone sales than they were in other regions. So hopefully that explains what's going on in China.\\nIn terms of the market there, 5G is fairly advanced there. They're forecasting 600,000 base stations by the end of the year. And so we're entering the market at a very good time, and with the reception that we've gotten so far; we're very confident there.\\nShannonCross\\nOkay, great. And then can you talk a bit about just overall in the world, the cadence that you see sort of for the 5G adoption launch, what you see will be sort of the key drivers, obviously, there's a fair amount of subsidies going on in the US at this point. Thank you.\\nTimCook\\nYes, we're working hard to provide the best experience for iPhone users. To do so we've been collaborating closely with carriers all around the world to ensure iPhone has great throughput and coverage and battery and call quality. We've completed 5G testing so far on over 100 carriers in over 30 regions. And so it's pretty, it's pretty pervasive around the world. But grantedly, it will continue to roll out in more places as carriers continue to expand their coverage. And this will happen every week. And so it's just going to get better. There are obvious places in the world where it's more ahead than others. But we feel like we are entering at a sort of at exactly the right time.\\nOperator\\nThat will be from Jeriel Ong from Deutsche Bank.\\nJerielOng\\nYes, thank you so much. I guess I appreciate the guidance for revenue to grow but I guess my question, perhaps, if I could, is relative to seasonality, you guys over the last five years of seasonality is typically above 50% quarter-on-quarter, do you think that you can beat that, even with the later release? And I have a follow up.\\nLucaMaestri\\nSo as I said, Jay, we're not providing a range, for the reasons that I explained during my prepared remarks. So you need to keep in mind a couple of things that are unique about this quarter versus the past. And that I mentioned again, the launch timing of the phones is different from the past. So we are launching the new iPhones, four weeks into the quarter for two models for the 12 and 12 Pro and seven weeks into the quarter for the other two, the iPhone Mini and for 12 Pro Max. So that is something to keep in mind as you think about the growth rates. With regard to all the other product categories, as I said, we are expecting to grow double digits essentially across the board for the rest of our products and for services.\\nAnd so we are incredibly optimistic about what we've seen so far. Obviously, we started taking pre orders five days ago and it's a bit early for the phone. But we think that there are a lot of tailwinds this year for iPhone for the entire cycle. Some of the comments that Tim has already made, right, we've got the best lineup of iPhones that we've ever had. We got an install base of iPhone that is very large continues to grow. It's an all time high. Obviously, 5G is a once in a decade, opportunity. And as you've seen in some markets, certainly here in the United States, carrier offers are very aggressive. And so that is very good for consumers and ultimately, very good for us. So very, very optimistic, given what we've seen so far.\\nJerielOng\\nAwesome, thank you so much for that context and given us some of the levers to think about. I'd like to ask a little bit more of a strategic one, a little bit longer term in nature. I think one thing is interesting about the Apple one bundle is the desire two bundles in the first place, I guess. I'm wondering, and some investors have asked me this as well, is that why wouldn't you also take that rationale perhaps in hardware, perhaps maybe AirPods and iPhone or AirPods watch and iPhone? Because if it makes sense to bundle services, would it also make sense to bundle hardware? And if that's not the case, then are there benefits of services, bundling that don't necessarily translate to hardware bundling? Thanks.\\nTimCook\\nYes, we don't have anything to announce today at our hardware bundle but backing up a bit. And we do view that people like to pay for their hardware are at least some substantial portion of it monthly. And so that's the reason that we have implemented installments in our stores and online. And that's the reason you see in some of the channels too selling the hardware on a per month kind of basis. If that begins to look like a subscription, perhaps to some buyers because they're used to holding the phone for a fixed period of time and then turning it over and using the residual value of that phone in a way that gives them a de facto kind of subsidy on a new phone. And so there is something today in the market that works somewhat similar. On the services side; we have -- we had customers coming to us and asking for an easier way to buy all of our services. And we wanted to provide that and we're looking forward to tomorrow to getting Apple one out there.\\nOperator\\nIt will come from Katy Huberty with Morgan Stanley.\\nKatyHuberty\\nThank you. Good afternoon. New technologies, including the chips that support 5G put upward pressure on cost this year. But you managed to leave ASPS for iPhones relatively unchanged this product cycle. How should we think about the margin profiles of iPhone 12 relative to past iPhone cycles?\\nLucaMaestri\\nHi, Katy. Obviously, we don't provide any outlook at the gross margin level for product categories. What I said in my prepared remarks, we expect gross margins in total for the company to be pretty much in line with what we've seen during the last quarter. Because obviously, as you said, it's very good, right, because we are offering the new phones at price points that are essentially unchanged. And we are taking on a lot of new technology into the phones. I would say the commodity environment is good. For the first time in many, many quarters, I don't have to say that foreign exchange is a headwind and getting into the quarter is not going to be a factor during the quarter.\\nAs we've made it clear in our comments, we are bullish about our sales performance expectation, so we should be getting some leverage. And so I think that the gross margin dynamics are good and it's very good to see that we're able to offer so much more technology and still able to deliver the level of gross margins that I think investors are expecting.\\nKatyHuberty\\nOkay and shifting to the services business. This isn't dependent on certainly any one service but licensing and other historically has been a driver of growth. That's where the ad based revenue comes in. When you think about the Google antitrust pressure, what's the risk that you see some shrinkage in your licensing and others segment within services and do you see opportunities for other services to make up for any potential weakness?\\nKatyHuberty\\nWe've got Katy, as you know; we've announced a number of services over the last couple of years. And we are ramping those between Apple TV plus and Apple News plus and Apple Kay, we've got Apple Card. We've got Apple Fitness Plus coming. We've got a number of services that have been launched a bit longer that are doing really well from the app store to iCloud, and So there's a lot of room their input and potential there. I have no idea how the DOJ suit will go, but I think it's a long way from a conclusion on it.\\nOperator\\nThat will come from Evercore's Amit Daryanani.\\nAmitDaryanani\\nThanks for taking my question. I guess I have two as well. First off, Tim, on iPhones, you talked about the iPhone install data thing being the highest and largest ever been satisfaction rates, obviously pretty high. And our data would suggest replacement cycles are getting elongated. And if I take all of that together, along with the fact that, if iPhone user like me with embarrassingly high weekly usage rate, does that in aggregate give you better confident, better clarity that we could enter an extensive period of iPhone revenue growth versus what we seen the last couple of years.\\nTimCook\\nWe're very bullish on this cycle, very bullish on it, because as I sort of step back from it and look at what we've now done, we have for the first time ever, we've launched four iPhones. And there is an iPhone for everyone there. It is the strongest lineup we've ever had by far, we have -- we do have a very large, loyal and growing install base. And we're also reaching out to switchers. And so I'm very optimistic there. We've got a once in a decade opportunity with 5G. There's a lot of excitement around 5G. And we've got some aggressive offers in the marketplace. And so when I think about all of those, I'm really and I look at the initial data points that we've got on the iPhone 12 and the 12 Pro, we are off to a great start.\\nAmitDaryanani\\nGot it. And I guess, Luca had a follow up to you on the services gross margin it just was to kind of continue to move higher rather nicely. Do you think this level at 67% essentially is sustainable? And what do you think are the two or three factors that are enabling these gross margins to remain here as we go forward?\\nLucaMaestri\\nI mean, obviously, we're very pleased with the level of gross margins in services, as you said; they've been expanding almost 300 basis points on a year-over-year basis. The reason for that is, of course that, we are growing the services revenue, and therefore we're getting leverage on a lot of these services, right. Some of it, as explained in the past, we have a portfolio of services that got different margin profiles. And so sometimes, depending on the mix of products we have, we can see margin expansion through mix, as well. And so, but we're also launching new services that where we need to invest heavily up front. And but we think we've been able to show, for example, this year that we've launched a lot of new services, made all the necessary investments and still being able to expand gross margin.\\nSo we feel quite confident about that trajectory that we have, that we have for services and we're very, very happy to see the customer response to really all of them, because as we've mentioned earlier, I mean, we've seen revenue records across essentially every category and in across the entire world, right? We've seen September quarter records in every geography around the world. So of the dynamics, all the levers that we have in the services business are working very well right now. And that translates also into margin, of course.\\nOperator\\nWe'll hear from Samik Chatterjee with JP Morgan.\\nSamikChatterjee\\nHi, thanks for taking the question. I just want to start off with the iPhone lineup here, particularly as you mentioned, the carrier subsidies that you see mixed optimistic about iPhone sales. I think just looking at some other factors here. Earlier in the year, you had mentioned that iPhone sales was seeing an uptake with stimulus checks going out to consumers helping in the consumer spending overall here in the US. So as we see some delays here on that front, are you seeing anything change on the consumer spending side as a macro impacting? How you think about iPhone sales, particularly with -- even with the new product lineup? And I have a follow up. Thank you.\\nTimCook\\nIt's prior to mid September, we were seeing double digit growth in customer demand on iPhone. So there's a lot of momentum there. And there is a lot of momentum even much more so now given the launch of the 12 Pro and the iPhone 12. If you're asking whether it could have been even more with a different macro spending environment? I believe the answer to be yes. But you can't run the experiment. And so I don't know for sure. But I suspect that just the COVID in general take something off from a worldwide economic point of view.\\nSamikChatterjee\\nPerfect. And if can just follow up just following up on that COVID discussion. We are potentially here looking at a second wave, right. And I think all companies are trying to prepare for that which you discussed as well in your prepared remarks. But if you can share any kind of thoughts about how you're preparing in relation to either inventory levels, or sourcing from the supply chain, to prepare for any potential disruption, like we had earlier this year?\\nTimCook\\nWell, we're doing everything we can do. But we're prioritizing safety first, obviously. And so with our stores as an example, we've come up with a new concept that puts an essentially turns the store into an express storefront. And we've implemented that in a number of places where we believe that helps from the safety of our employee and the safety of the customer's point of view, but still allows for an interaction to take place. And so we've also put a lot more people on the phones because a lot more people are reaching out to us in that way. And of course, the online store has stayed up and running through the whole of this. I think if you take some of those, the channel is doing some similar things and then some different things as well.\\nAnd so I think everybody to the best of their ability is putting in contingency plans and finding a way to adapt to the environment. But it is difficult to call and there's a level of uncertainty in it, obviously. And that's what Luca was referring to earlier.\\nOperator\\nThat will come from Krish Sankar from Cowen and Company.\\nKrishSankar\\nHi, thanks for taking my question. I have two of them, first on palooka. I understand you don't want to give color on gross margin by products or segments. But Luca you mentioned growth margin should be similar in December versus September. And so it should grow double digit, there's a general view that on the iPhone side, the bond cost would be headwind for gross margin, but carrier subsidies would be attainment. So I'm kind of curious, how should we think about the different, like gross margin levels into December quarter? And I have a follow up.\\nLucaMaestri\\nYes. And so typically during the December quarter, we have positive factors because we have the typical seasonal leverage, right, sequentially as we go from September to the holiday season. And we also have an improved mix between products, particularly this year, as we've launched the new iPhone, at the same time, we shouldn't forget that we have launched a lot of new products. During the last several weeks, we launched four new models of iPhone; we launch new models of Apple watch new, models of iPads. And so, clearly every time we launch a new product, the cost structure is higher. And so that is going to be the other side of the coin. So but we think that those two things should balance out and again, as I was saying earlier, and we are accomplishing this while delivering a lot of new technologies, a lot of new features to our customers. This time for an exchange is not a factor and that's something that is a bit different from the past. So but that those are the pluses and minuses.\\nKrishSankar\\nGot it. Definitely helpful, Luca. And then a follow up for Tim. Tim, I kind of surprised you didn't say a lot about the payments ecosystem in this prepared comments kind of curious to find out from your advantage point, how you think of your whole payments ecosystem including Apple Card, Apple Pay, Apple Cash; now you're disaggregating the whole FinTech environment.\\nTimCook\\nThanks for the question. There's just a limited number of things I can talk about is kind of a reason I didn't talk about it. We continue to be very enthusiastic about the whole Payment Services area. Apple Card is doing well. And Apple Pay is doing exceptionally well. As you can imagine in this environment, people are less want to hand over a card. So this contactless payment has taken on a different level of adoption in it that I think will never go back. The US has been lagging a bit in contactless payment. And I think that the pandemic may well get put the US on a different trajectory there. And so we are very bullish about this area and view that there are there are more things that Apple can do in this space. And in so it's an area of great interest to us.\\nOperator\\nThat will come from Kyle McNealy with Jefferies.\\nKyleMcNealy\\nHi, thanks for the question. I wanted to ask a little bit about the supply chain. Given your latest start from manufacturing to the flagship phone line of this year, do you think that supply will be able to meet demand through the end of the calendar? Are there any component shortages that you're seeing? Or are there any actions that you can take to increase weekly output versus last year? Thanks.\\nTimCook\\nYes, Kyle, I don't know what you're talking about iPhone in particular. But if you look at iPhone, we are constrained today. And that's not a surprise where at the front end of the ramp, if you will, and how long we will be supply constrained, it's hard to predict. I mean, we haven't taken orders yet for the iPhone 12 Mini or the Pro Max either. And so those are coming in. So we shall see. But right now we are supply constrained, we are also supply constrained for avoidance of any confusion where supply constrained on Mac, we are supply constrained on iPad. And we're supply constrained on some Apple watches as well. And so we have a fair number of areas right now of focus, and we're working really, really hard to remedy those as quickly as we can. But at this point, I can't estimate when we'll be out of that.\\nKyleMcNealy\\nOkay, great. Thanks a lot. And then switching to Mac and iPad. How do you think about the durability of the strength you've seen there with Mac and iPad? Is there any potential for stronger than seasonal pullback after the strong back to school season and holiday season? And these supply constraints make it feel like there's a good chance for continuation of the strong demand trends and in flow through of that. What do we think about the seasonality into December and March quarter being more positive in seasonal or less positive in seasonal? Thanks.\\nTimCook\\nYes, we placed our thoughts in the color that Luca provided when he said that all products excluding iPhone, all products and services excluding iPhone or all products, rather excluding iPhone would grow in the double digits. And so we continue to be bullish on what Mac and iPad can do. I think the moves that have taken place to remote learning and remote work are not going to go back to normal, normal will become something different. Because I think people are learning that there are aspects of this that work well. And so I don't believe that we're going to go back to where we were. And I think that means that iPads and Macs are even more important in those environments. The growth in both of these last quarter were phenomenal as you can tell from your from datasheet with Mac at 29 and iPad at 46.\\nThese are tremendous numbers and as Luca said the September quarter was the all time high for Mac in the history of the company, and by not by little bit by $1.6 billion. And so it was a substantial difference that we did have aggressive promotion for college students that were going back to going back to school. And so that invariably part of it. But I think the other part of it during the remote work thing is not something that's going to snap back to the way it used to be anytime soon.\\nOperator\\nThat will come from Chris Caso with Raymond James.\\nChrisCaso\\nYes, thank you. I guess first question is on iPhone pricing. And there was some changes in the iPhone price back this year, the iPhone, the price point for iPhone 12 moves up a bit, I guess the difference the gap between 12 and 12 Pro is smaller. And I guess that's after you made some adjustments years prior where the price point came down a bit? Can you talk through the thought process behind that and the potential implications for either unit out elasticity or blended ASP as a result of the price changes?\\nTimCook\\nWell, I the iPhone 12 family start at $699. In many places, because you can get in the deals that people are really paying are very different than that, because a lot of people, particularly in this country, but also in several other countries in the world connect to a carrier plan. And of course, those offers are much more aggressive. And so the price that our customers paying is probably the most important one. The iPhone 12 is at $799. And so I think what you're saying is there's a $200 difference there. But I would guess that people are viewing it more as a $300 difference between the 12 Mini and the 12 Pro. And so we'll see what the mix turns out. Right now we have no data other than 12 and 12. Pro, we like the data on the 12 Mini and the Pro Max, because we're not taking orders yet. But what we try to always do in pricing is give the customer a great value. And I feel like we really did that this year. And that's despite, as was mentioned earlier, all of the extra features that we placed into the phones, including 5G.\\nChrisCaso\\nAs a follow up you mentioned, some of the carrier incentives we've seen here in the US. And if you could provide some more color about that, about what you're seeing now. And obviously, as we went through, years ago, the incentive from carriers were a lot larger. Is this mark some shift in the approach of carriers as we're moving into 5G? What's the extent of the permanence of some of these incentives? And then, as 5G rolls out around the world and into other geographies, is this something we should expect that as either they try to protect from switchers or kind of promote the 5G networks will see a higher prevalence of incentives and carriers as we go forward?\\nTimCook\\nI don't want to speak for our carrier partners that would be up to them to talk about their plans. Generally, I think it's to the vast, vast majority of carriers around the world to their interest to move customers to 5G. And I think it's in the customer's interest to move to 5G and obviously, we like that as well. And so I think you have a situation where everyone's whoring in the same direction. And that's a very different kind of situation than normally we would have. And so it is one of the things as I alluded to earlier that makes me very bullish, only one, the other things are very important to the size of the install base, the product lineup, these things are critically important as well.\\nTejas Gala\\nThank you, Chris. A replay of today's call will be available for two weeks on Apple podcasts, as a webcast on apple.com/investor and via telephone. The numbers for the telephone replay are 888-203-1112 or 719-457- 0820, please enter confirmation code 9501153. These replays will be available by approximately 5 PM Pacific time today. Members of the press with additional questions can contact Kristin Huguet at 408-974-2414; financial analysts can contact me with additional questions at 669-227-2402. Thank you again for joining us.\\nOperator\\nAnd again, that does conclude today's conference. Thank you all for joining us today.\\n\\n\\n\\n\\n\\n1\\n          V. Bearish\\n        \\n2\\n          Bearish\\n        \\n3\\n          Neutral\\n        \\n4\\n          Bullish\\n        \\n5\\n          V. Bullish\\n        \\n16 Authors in the Last 30 Days\\n\""
      ]
     },
     "execution_count": 4,
     "metadata": {},
     "output_type": "execute_result"
    }
   ],
   "source": [
    "# Open a file: file\n",
    "one_title = titles[0]\n",
    "#! need to change file_path. Specify 'sandp100' or 'sandp500'\n",
    "# current path: ..\\transcripts\\Apple Inc. (AAPL) CEO Tim Cook on Q4 2020 Results - Earnings Call Transcript.txt\n",
    "file_path = os.path.join('..', 'transcripts', 'sandp500', one_title +'.txt') \n",
    "file = open(file_path,mode='r')\n",
    " \n",
    "# read all lines at once\n",
    "all_of_it = file.read()\n",
    " \n",
    "# close the file\n",
    "file.close()"
   ]
  },
  {
   "cell_type": "code",
   "execution_count": 5,
   "metadata": {},
   "outputs": [
    {
     "name": "stderr",
     "output_type": "stream",
     "text": [
      "[nltk_data] Downloading package stopwords to\n",
      "[nltk_data]     C:\\Users\\lamqi\\AppData\\Roaming\\nltk_data...\n",
      "[nltk_data]   Package stopwords is already up-to-date!\n",
      "[nltk_data] Downloading package punkt to\n",
      "[nltk_data]     C:\\Users\\lamqi\\AppData\\Roaming\\nltk_data...\n",
      "[nltk_data]   Package punkt is already up-to-date!\n",
      "[nltk_data] Downloading package wordnet to\n",
      "[nltk_data]     C:\\Users\\lamqi\\AppData\\Roaming\\nltk_data...\n",
      "[nltk_data]   Package wordnet is already up-to-date!\n"
     ]
    }
   ],
   "source": [
    "#all_of_it\n",
    "from utils import preprocess_text"
   ]
  },
  {
   "cell_type": "code",
   "execution_count": 6,
   "metadata": {},
   "outputs": [],
   "source": [
    "# nltk.download()\n",
    "processed_text = preprocess_text(all_of_it)"
   ]
  },
  {
   "cell_type": "code",
   "execution_count": 7,
   "metadata": {},
   "outputs": [
    {
     "data": {
      "text/plain": [
       "4033"
      ]
     },
     "execution_count": 7,
     "metadata": {},
     "output_type": "execute_result"
    }
   ],
   "source": [
    "len(processed_text)"
   ]
  },
  {
   "cell_type": "code",
   "execution_count": 8,
   "metadata": {},
   "outputs": [
    {
     "data": {
      "text/plain": [
       "1176"
      ]
     },
     "execution_count": 8,
     "metadata": {},
     "output_type": "execute_result"
    }
   ],
   "source": [
    "len(set(processed_text))"
   ]
  },
  {
   "cell_type": "code",
   "execution_count": 9,
   "metadata": {},
   "outputs": [
    {
     "name": "stderr",
     "output_type": "stream",
     "text": [
      "C:\\Users\\lamqi\\AppData\\Local\\Temp\\ipykernel_25828\\4250516910.py:1: SettingWithCopyWarning: \n",
      "A value is trying to be set on a copy of a slice from a DataFrame.\n",
      "Try using .loc[row_indexer,col_indexer] = value instead\n",
      "\n",
      "See the caveats in the documentation: https://pandas.pydata.org/pandas-docs/stable/user_guide/indexing.html#returning-a-view-versus-a-copy\n",
      "  df_ECT['body'] = ''\n"
     ]
    }
   ],
   "source": [
    "df_ECT['body'] = ''"
   ]
  },
  {
   "cell_type": "code",
   "execution_count": 10,
   "metadata": {},
   "outputs": [],
   "source": [
    "df_ECT = df_ECT.set_index('Title')"
   ]
  },
  {
   "cell_type": "code",
   "execution_count": 11,
   "metadata": {},
   "outputs": [
    {
     "data": {
      "text/html": [
       "<div>\n",
       "<style scoped>\n",
       "    .dataframe tbody tr th:only-of-type {\n",
       "        vertical-align: middle;\n",
       "    }\n",
       "\n",
       "    .dataframe tbody tr th {\n",
       "        vertical-align: top;\n",
       "    }\n",
       "\n",
       "    .dataframe thead th {\n",
       "        text-align: right;\n",
       "    }\n",
       "</style>\n",
       "<table border=\"1\" class=\"dataframe\">\n",
       "  <thead>\n",
       "    <tr style=\"text-align: right;\">\n",
       "      <th></th>\n",
       "      <th>URL</th>\n",
       "      <th>Date</th>\n",
       "      <th>Symbol</th>\n",
       "      <th>body</th>\n",
       "    </tr>\n",
       "    <tr>\n",
       "      <th>Title</th>\n",
       "      <th></th>\n",
       "      <th></th>\n",
       "      <th></th>\n",
       "      <th></th>\n",
       "    </tr>\n",
       "  </thead>\n",
       "  <tbody>\n",
       "    <tr>\n",
       "      <th>Apple Inc. (AAPL) CEO Tim Cook on Q4 2020 Results - Earnings Call Transcript</th>\n",
       "      <td>/article/4382943-apple-inc-aapl-ceo-tim-cook-o...</td>\n",
       "      <td>10/29/2020</td>\n",
       "      <td>AAPL</td>\n",
       "      <td></td>\n",
       "    </tr>\n",
       "    <tr>\n",
       "      <th>Apple Inc. (AAPL) CEO Tim Cook on Q3 2020 Results - Earnings Call Transcript</th>\n",
       "      <td>/article/4362707-apple-inc-aapl-ceo-tim-cook-o...</td>\n",
       "      <td>7/30/2020</td>\n",
       "      <td>AAPL</td>\n",
       "      <td></td>\n",
       "    </tr>\n",
       "    <tr>\n",
       "      <th>Apple Inc. (AAPL) CEO Tim Cook on Q2 2020 Results - Earnings Call Transcript</th>\n",
       "      <td>/article/4341792-apple-inc-aapl-ceo-tim-cook-o...</td>\n",
       "      <td>4/30/2020</td>\n",
       "      <td>AAPL</td>\n",
       "      <td></td>\n",
       "    </tr>\n",
       "    <tr>\n",
       "      <th>Apple Inc. (AAPL) CEO Tim Cook on Q1 2020 Results - Earnings Call Transcript</th>\n",
       "      <td>/article/4319666-apple-inc-aapl-ceo-tim-cook-o...</td>\n",
       "      <td>1/28/2020</td>\n",
       "      <td>AAPL</td>\n",
       "      <td></td>\n",
       "    </tr>\n",
       "    <tr>\n",
       "      <th>AbbVie Inc.'s (ABBV) CEO Rick Gonzalez on Q3 2020 Results - Earnings Call Transcript</th>\n",
       "      <td>/article/4383381-abbvie-inc-s-abbv-ceo-rick-go...</td>\n",
       "      <td>10/30/2020</td>\n",
       "      <td>ABBV</td>\n",
       "      <td></td>\n",
       "    </tr>\n",
       "    <tr>\n",
       "      <th>...</th>\n",
       "      <td>...</td>\n",
       "      <td>...</td>\n",
       "      <td>...</td>\n",
       "      <td>...</td>\n",
       "    </tr>\n",
       "    <tr>\n",
       "      <th>Walmart, Inc. (WMT) CEO Doug McMillon on Q1 2021 Results - Earnings Call Transcript</th>\n",
       "      <td>/article/4348814-walmart-inc-wmt-ceo-doug-mcmi...</td>\n",
       "      <td>5/19/2020</td>\n",
       "      <td>WMT</td>\n",
       "      <td></td>\n",
       "    </tr>\n",
       "    <tr>\n",
       "      <th>Exxon Mobil Corporation (XOM) Q3 2020 Results - Earnings Call Transcript</th>\n",
       "      <td>/article/4383411-exxon-mobil-corporation-xom-q...</td>\n",
       "      <td>10/30/2020</td>\n",
       "      <td>XOM</td>\n",
       "      <td></td>\n",
       "    </tr>\n",
       "    <tr>\n",
       "      <th>Exxon Mobil Corp (XOM) Q2 2020 Results - Earnings Call Transcript</th>\n",
       "      <td>/article/4363013-exxon-mobil-corp-xom-q2-2020-...</td>\n",
       "      <td>7/31/2020</td>\n",
       "      <td>XOM</td>\n",
       "      <td></td>\n",
       "    </tr>\n",
       "    <tr>\n",
       "      <th>Exxon Mobil Corporation (XOM) CEO Darren Woods on Q1 2020 Results - Earnings Call Transcript</th>\n",
       "      <td>/article/4342148-exxon-mobil-corporation-xom-c...</td>\n",
       "      <td>5/1/2020</td>\n",
       "      <td>XOM</td>\n",
       "      <td></td>\n",
       "    </tr>\n",
       "    <tr>\n",
       "      <th>Exxon Mobil Corporation (XOM) CEO Darren Woods on Q4 2019 Results - Earnings Call Transcript</th>\n",
       "      <td>/article/4320707-exxon-mobil-corporation-xom-c...</td>\n",
       "      <td>1/31/2020</td>\n",
       "      <td>XOM</td>\n",
       "      <td></td>\n",
       "    </tr>\n",
       "  </tbody>\n",
       "</table>\n",
       "<p>402 rows × 4 columns</p>\n",
       "</div>"
      ],
      "text/plain": [
       "                                                                                                  URL  \\\n",
       "Title                                                                                                   \n",
       "Apple Inc. (AAPL) CEO Tim Cook on Q4 2020 Resul...  /article/4382943-apple-inc-aapl-ceo-tim-cook-o...   \n",
       "Apple Inc. (AAPL) CEO Tim Cook on Q3 2020 Resul...  /article/4362707-apple-inc-aapl-ceo-tim-cook-o...   \n",
       "Apple Inc. (AAPL) CEO Tim Cook on Q2 2020 Resul...  /article/4341792-apple-inc-aapl-ceo-tim-cook-o...   \n",
       "Apple Inc. (AAPL) CEO Tim Cook on Q1 2020 Resul...  /article/4319666-apple-inc-aapl-ceo-tim-cook-o...   \n",
       "AbbVie Inc.'s (ABBV) CEO Rick Gonzalez on Q3 20...  /article/4383381-abbvie-inc-s-abbv-ceo-rick-go...   \n",
       "...                                                                                               ...   \n",
       "Walmart, Inc. (WMT) CEO Doug McMillon on Q1 202...  /article/4348814-walmart-inc-wmt-ceo-doug-mcmi...   \n",
       "Exxon Mobil Corporation (XOM) Q3 2020 Results -...  /article/4383411-exxon-mobil-corporation-xom-q...   \n",
       "Exxon Mobil Corp (XOM) Q2 2020 Results - Earnin...  /article/4363013-exxon-mobil-corp-xom-q2-2020-...   \n",
       "Exxon Mobil Corporation (XOM) CEO Darren Woods ...  /article/4342148-exxon-mobil-corporation-xom-c...   \n",
       "Exxon Mobil Corporation (XOM) CEO Darren Woods ...  /article/4320707-exxon-mobil-corporation-xom-c...   \n",
       "\n",
       "                                                          Date Symbol body  \n",
       "Title                                                                       \n",
       "Apple Inc. (AAPL) CEO Tim Cook on Q4 2020 Resul...  10/29/2020   AAPL       \n",
       "Apple Inc. (AAPL) CEO Tim Cook on Q3 2020 Resul...   7/30/2020   AAPL       \n",
       "Apple Inc. (AAPL) CEO Tim Cook on Q2 2020 Resul...   4/30/2020   AAPL       \n",
       "Apple Inc. (AAPL) CEO Tim Cook on Q1 2020 Resul...   1/28/2020   AAPL       \n",
       "AbbVie Inc.'s (ABBV) CEO Rick Gonzalez on Q3 20...  10/30/2020   ABBV       \n",
       "...                                                        ...    ...  ...  \n",
       "Walmart, Inc. (WMT) CEO Doug McMillon on Q1 202...   5/19/2020    WMT       \n",
       "Exxon Mobil Corporation (XOM) Q3 2020 Results -...  10/30/2020    XOM       \n",
       "Exxon Mobil Corp (XOM) Q2 2020 Results - Earnin...   7/31/2020    XOM       \n",
       "Exxon Mobil Corporation (XOM) CEO Darren Woods ...    5/1/2020    XOM       \n",
       "Exxon Mobil Corporation (XOM) CEO Darren Woods ...   1/31/2020    XOM       \n",
       "\n",
       "[402 rows x 4 columns]"
      ]
     },
     "execution_count": 11,
     "metadata": {},
     "output_type": "execute_result"
    }
   ],
   "source": [
    "df_ECT"
   ]
  },
  {
   "cell_type": "code",
   "execution_count": 12,
   "metadata": {},
   "outputs": [],
   "source": [
    "df_ECT.at[titles[0], 'body'] = all_of_it"
   ]
  },
  {
   "cell_type": "code",
   "execution_count": 13,
   "metadata": {},
   "outputs": [],
   "source": [
    "df_ECT['body_tokens'] = ''"
   ]
  },
  {
   "cell_type": "code",
   "execution_count": 14,
   "metadata": {},
   "outputs": [],
   "source": [
    "for title in titles:\n",
    "    try:\n",
    "        file_path = os.path.join('..', 'transcripts', title +'.txt')\n",
    "        file = open(file_path,mode='r')\n",
    "        text = file.read()\n",
    "        file.close()\n",
    "        processed_text = preprocess_text(text)\n",
    "        df_ECT.at[title, 'body'] = text\n",
    "        df_ECT.at[title, 'body_tokens'] = processed_text\n",
    "    except:\n",
    "        continue\n",
    "    "
   ]
  },
  {
   "cell_type": "code",
   "execution_count": 15,
   "metadata": {},
   "outputs": [
    {
     "data": {
      "text/plain": [
       "Index          19768\n",
       "URL             3216\n",
       "Date            3216\n",
       "Symbol          3216\n",
       "body            3216\n",
       "body_tokens     3216\n",
       "dtype: int64"
      ]
     },
     "execution_count": 15,
     "metadata": {},
     "output_type": "execute_result"
    }
   ],
   "source": [
    "# df_ECT.memory_usage()"
   ]
  },
  {
   "cell_type": "code",
   "execution_count": 16,
   "metadata": {},
   "outputs": [],
   "source": [
    "df_ECT['Date'] = pd.to_datetime(df_ECT['Date'])"
   ]
  },
  {
   "cell_type": "code",
   "execution_count": 17,
   "metadata": {},
   "outputs": [],
   "source": [
    "df_ECT['date_plus_28'] = pd.to_datetime(df_ECT['Date']) + dt.timedelta(28) #plus 28 days\n",
    "df_ECT['date_plus_7'] = pd.to_datetime(df_ECT['Date']) + dt.timedelta(7) #plus 7 days\n",
    "df_ECT['date_plus_1'] = pd.to_datetime(df_ECT['Date']) + dt.timedelta(1) #plus 1 days\n"
   ]
  },
  {
   "cell_type": "code",
   "execution_count": 20,
   "metadata": {},
   "outputs": [
    {
     "data": {
      "text/html": [
       "<div>\n",
       "<style scoped>\n",
       "    .dataframe tbody tr th:only-of-type {\n",
       "        vertical-align: middle;\n",
       "    }\n",
       "\n",
       "    .dataframe tbody tr th {\n",
       "        vertical-align: top;\n",
       "    }\n",
       "\n",
       "    .dataframe thead th {\n",
       "        text-align: right;\n",
       "    }\n",
       "</style>\n",
       "<table border=\"1\" class=\"dataframe\">\n",
       "  <thead>\n",
       "    <tr style=\"text-align: right;\">\n",
       "      <th></th>\n",
       "      <th>Unnamed: 0</th>\n",
       "      <th>Symbol</th>\n",
       "      <th>Name</th>\n",
       "      <th>Date</th>\n",
       "      <th>Adj_Close</th>\n",
       "      <th>Close</th>\n",
       "      <th>High</th>\n",
       "      <th>Low</th>\n",
       "      <th>Open</th>\n",
       "      <th>Volume</th>\n",
       "    </tr>\n",
       "  </thead>\n",
       "  <tbody>\n",
       "    <tr>\n",
       "      <th>0</th>\n",
       "      <td>0</td>\n",
       "      <td>AAPL</td>\n",
       "      <td>Apple Inc.</td>\n",
       "      <td>2020-01-02</td>\n",
       "      <td>74.444603</td>\n",
       "      <td>75.087502</td>\n",
       "      <td>75.150002</td>\n",
       "      <td>73.797501</td>\n",
       "      <td>74.059998</td>\n",
       "      <td>135,480,400</td>\n",
       "    </tr>\n",
       "    <tr>\n",
       "      <th>1</th>\n",
       "      <td>1</td>\n",
       "      <td>AAPL</td>\n",
       "      <td>Apple Inc.</td>\n",
       "      <td>2020-01-03</td>\n",
       "      <td>73.720840</td>\n",
       "      <td>74.357498</td>\n",
       "      <td>75.144997</td>\n",
       "      <td>74.125000</td>\n",
       "      <td>74.287498</td>\n",
       "      <td>146,322,800</td>\n",
       "    </tr>\n",
       "    <tr>\n",
       "      <th>2</th>\n",
       "      <td>2</td>\n",
       "      <td>AAPL</td>\n",
       "      <td>Apple Inc.</td>\n",
       "      <td>2020-01-06</td>\n",
       "      <td>74.308266</td>\n",
       "      <td>74.949997</td>\n",
       "      <td>74.989998</td>\n",
       "      <td>73.187500</td>\n",
       "      <td>73.447502</td>\n",
       "      <td>118,387,200</td>\n",
       "    </tr>\n",
       "    <tr>\n",
       "      <th>3</th>\n",
       "      <td>3</td>\n",
       "      <td>AAPL</td>\n",
       "      <td>Apple Inc.</td>\n",
       "      <td>2020-01-07</td>\n",
       "      <td>73.958794</td>\n",
       "      <td>74.597504</td>\n",
       "      <td>75.224998</td>\n",
       "      <td>74.370003</td>\n",
       "      <td>74.959999</td>\n",
       "      <td>108,872,000</td>\n",
       "    </tr>\n",
       "    <tr>\n",
       "      <th>4</th>\n",
       "      <td>4</td>\n",
       "      <td>AAPL</td>\n",
       "      <td>Apple Inc.</td>\n",
       "      <td>2020-01-08</td>\n",
       "      <td>75.148521</td>\n",
       "      <td>75.797501</td>\n",
       "      <td>76.110001</td>\n",
       "      <td>74.290001</td>\n",
       "      <td>74.290001</td>\n",
       "      <td>132,079,200</td>\n",
       "    </tr>\n",
       "    <tr>\n",
       "      <th>...</th>\n",
       "      <td>...</td>\n",
       "      <td>...</td>\n",
       "      <td>...</td>\n",
       "      <td>...</td>\n",
       "      <td>...</td>\n",
       "      <td>...</td>\n",
       "      <td>...</td>\n",
       "      <td>...</td>\n",
       "      <td>...</td>\n",
       "      <td>...</td>\n",
       "    </tr>\n",
       "    <tr>\n",
       "      <th>25548</th>\n",
       "      <td>25548</td>\n",
       "      <td>XOM</td>\n",
       "      <td>Exxon Mobil Corp.</td>\n",
       "      <td>2020-12-24</td>\n",
       "      <td>41.599998</td>\n",
       "      <td>41.599998</td>\n",
       "      <td>41.849998</td>\n",
       "      <td>41.380001</td>\n",
       "      <td>41.650002</td>\n",
       "      <td>8,039,000</td>\n",
       "    </tr>\n",
       "    <tr>\n",
       "      <th>25549</th>\n",
       "      <td>25549</td>\n",
       "      <td>XOM</td>\n",
       "      <td>Exxon Mobil Corp.</td>\n",
       "      <td>2020-12-28</td>\n",
       "      <td>41.740002</td>\n",
       "      <td>41.740002</td>\n",
       "      <td>42.549999</td>\n",
       "      <td>41.520000</td>\n",
       "      <td>41.689999</td>\n",
       "      <td>23,877,500</td>\n",
       "    </tr>\n",
       "    <tr>\n",
       "      <th>25550</th>\n",
       "      <td>25550</td>\n",
       "      <td>XOM</td>\n",
       "      <td>Exxon Mobil Corp.</td>\n",
       "      <td>2020-12-29</td>\n",
       "      <td>41.270000</td>\n",
       "      <td>41.270000</td>\n",
       "      <td>42.119999</td>\n",
       "      <td>41.200001</td>\n",
       "      <td>42.040001</td>\n",
       "      <td>20,287,700</td>\n",
       "    </tr>\n",
       "    <tr>\n",
       "      <th>25551</th>\n",
       "      <td>25551</td>\n",
       "      <td>XOM</td>\n",
       "      <td>Exxon Mobil Corp.</td>\n",
       "      <td>2020-12-30</td>\n",
       "      <td>41.599998</td>\n",
       "      <td>41.599998</td>\n",
       "      <td>42.419998</td>\n",
       "      <td>41.270000</td>\n",
       "      <td>41.330002</td>\n",
       "      <td>23,807,300</td>\n",
       "    </tr>\n",
       "    <tr>\n",
       "      <th>25552</th>\n",
       "      <td>25552</td>\n",
       "      <td>XOM</td>\n",
       "      <td>Exxon Mobil Corp.</td>\n",
       "      <td>2020-12-31</td>\n",
       "      <td>41.220001</td>\n",
       "      <td>41.220001</td>\n",
       "      <td>41.680000</td>\n",
       "      <td>40.970001</td>\n",
       "      <td>41.470001</td>\n",
       "      <td>22,769,300</td>\n",
       "    </tr>\n",
       "  </tbody>\n",
       "</table>\n",
       "<p>25553 rows × 10 columns</p>\n",
       "</div>"
      ],
      "text/plain": [
       "       Unnamed: 0 Symbol               Name       Date  Adj_Close      Close  \\\n",
       "0               0   AAPL         Apple Inc. 2020-01-02  74.444603  75.087502   \n",
       "1               1   AAPL         Apple Inc. 2020-01-03  73.720840  74.357498   \n",
       "2               2   AAPL         Apple Inc. 2020-01-06  74.308266  74.949997   \n",
       "3               3   AAPL         Apple Inc. 2020-01-07  73.958794  74.597504   \n",
       "4               4   AAPL         Apple Inc. 2020-01-08  75.148521  75.797501   \n",
       "...           ...    ...                ...        ...        ...        ...   \n",
       "25548       25548    XOM  Exxon Mobil Corp. 2020-12-24  41.599998  41.599998   \n",
       "25549       25549    XOM  Exxon Mobil Corp. 2020-12-28  41.740002  41.740002   \n",
       "25550       25550    XOM  Exxon Mobil Corp. 2020-12-29  41.270000  41.270000   \n",
       "25551       25551    XOM  Exxon Mobil Corp. 2020-12-30  41.599998  41.599998   \n",
       "25552       25552    XOM  Exxon Mobil Corp. 2020-12-31  41.220001  41.220001   \n",
       "\n",
       "            High        Low       Open       Volume  \n",
       "0      75.150002  73.797501  74.059998  135,480,400  \n",
       "1      75.144997  74.125000  74.287498  146,322,800  \n",
       "2      74.989998  73.187500  73.447502  118,387,200  \n",
       "3      75.224998  74.370003  74.959999  108,872,000  \n",
       "4      76.110001  74.290001  74.290001  132,079,200  \n",
       "...          ...        ...        ...          ...  \n",
       "25548  41.849998  41.380001  41.650002    8,039,000  \n",
       "25549  42.549999  41.520000  41.689999   23,877,500  \n",
       "25550  42.119999  41.200001  42.040001   20,287,700  \n",
       "25551  42.419998  41.270000  41.330002   23,807,300  \n",
       "25552  41.680000  40.970001  41.470001   22,769,300  \n",
       "\n",
       "[25553 rows x 10 columns]"
      ]
     },
     "execution_count": 20,
     "metadata": {},
     "output_type": "execute_result"
    }
   ],
   "source": [
    "#load price data\n",
    "#! \"combined_snp100_data.csv\" currently in \"sentiment_analysis_folder\"\n",
    "price_file_path = os.path.join('..', 'sentiment_analysis_folder', 'combined_snp100_data.csv')\n",
    "pricing_df = pd.read_csv(price_file_path)\n",
    "pricing_df['Date'] = pd.to_datetime(pricing_df['Date'])\n",
    "pricing_df"
   ]
  },
  {
   "cell_type": "code",
   "execution_count": 21,
   "metadata": {},
   "outputs": [],
   "source": [
    "df_ECT['date_plus_28'] = pd.to_datetime(df_ECT['date_plus_28'], format='%Y-%m-%d', errors='coerce').dt.date # If 'coerce', then invalid parsing will be set as NaT.\n",
    "df_ECT['date_plus_7'] = pd.to_datetime(df_ECT['date_plus_7'], format='%Y-%m-%d', errors='coerce').dt.date\n",
    "df_ECT['date_plus_1'] = pd.to_datetime(df_ECT['date_plus_1'], format='%Y-%m-%d', errors='coerce').dt.date\n",
    "df_ECT['Date'] = pd.to_datetime(df_ECT['Date'], format='%Y-%m-%d', errors='coerce').dt.date\n",
    "pricing_df['Date'] = pd.to_datetime(pricing_df['Date'], format='%Y-%m-%d', errors='coerce').dt.date"
   ]
  },
  {
   "cell_type": "code",
   "execution_count": null,
   "metadata": {},
   "outputs": [],
   "source": [
    "search_date = df_ECT['Date'][0]\n",
    "search_ticker = df_ECT['Symbol'][0]\n",
    "\n",
    "#if (pricing_df[(pricing_df[\"Date\"]==search_date) & (pricing_df[\"Symbol\"]==search_ticker)].iloc[0]['Close']):\n",
    "#print(pricing_df[(pricing_df[\"Date\"]==search_date) & (pricing_df[\"Symbol\"]==search_ticker)].iloc[0]['Close'])"
   ]
  },
  {
   "cell_type": "code",
   "execution_count": null,
   "metadata": {},
   "outputs": [],
   "source": [
    "def getPriceOnDayExact(search_ticker, search_date):\n",
    "    return pricing_df[(pricing_df[\"Date\"]==search_date) & (pricing_df[\"Symbol\"]==search_ticker)].iloc[0]['Close']    \n",
    "\n",
    "#the below function will return closing price given a ticker and day, if the market was open day, if it was not, it checks the next day, and then the day after that\n",
    "def getPriceOnDay(search_ticker, search_date):\n",
    "    dates = pricing_df[pricing_df['Symbol']==search_ticker][\"Date\"].tolist()\n",
    "    if (search_date in dates):\n",
    "        return pricing_df[(pricing_df[\"Date\"]==search_date) & (pricing_df[\"Symbol\"]==search_ticker)].iloc[0]['Close']\n",
    "    elif ( (search_date + dt.timedelta(1)) in dates):\n",
    "        search_date = search_date + dt.timedelta(1)\n",
    "        return pricing_df[(pricing_df[\"Date\"]==search_date) & (pricing_df[\"Symbol\"]==search_ticker)].iloc[0]['Close']\n",
    "    elif ( (search_date + dt.timedelta(2)) in dates):\n",
    "        search_date = search_date + dt.timedelta(2)\n",
    "        return pricing_df[(pricing_df[\"Date\"]==search_date) & (pricing_df[\"Symbol\"]==search_ticker)].iloc[0]['Close']\n",
    "    else:\n",
    "        return None\n",
    "\n",
    "#calculate return given beginning and ending price\n",
    "def returnOnInvestment(begin_price, end_price):\n",
    "    return_on_investment = (end_price/begin_price)-1\n",
    "    return return_on_investment\n",
    "      \n",
    "\n"
   ]
  },
  {
   "cell_type": "code",
   "execution_count": null,
   "metadata": {},
   "outputs": [],
   "source": [
    "pricing_df['Date'] = pd.to_datetime(pricing_df['Date'], '%Y-%m-%d')"
   ]
  },
  {
   "cell_type": "code",
   "execution_count": null,
   "metadata": {},
   "outputs": [],
   "source": [
    "df_ECT"
   ]
  },
  {
   "cell_type": "code",
   "execution_count": null,
   "metadata": {},
   "outputs": [],
   "source": [
    "for index, row in df_ECT.iloc[:10].iterrows():\n",
    "    date = row['Date']\n",
    "    ticker = row['Symbol']\n",
    "    print(getPriceOnDay(ticker, date))\n"
   ]
  },
  {
   "cell_type": "code",
   "execution_count": null,
   "metadata": {},
   "outputs": [],
   "source": [
    "df_ECT['Price'] = df_ECT.apply(lambda x: getPriceOnDay(x['Symbol'], x['Date']), axis=1)"
   ]
  },
  {
   "cell_type": "code",
   "execution_count": null,
   "metadata": {},
   "outputs": [],
   "source": [
    "df_ECT['price_plus_28'] = df_ECT.apply(lambda x: getPriceOnDay(x['Symbol'], x['date_plus_28']), axis=1)\n",
    "df_ECT['price_plus_7'] = df_ECT.apply(lambda x: getPriceOnDay(x['Symbol'], x['date_plus_7']), axis=1)\n",
    "df_ECT['price_plus_1'] = df_ECT.apply(lambda x: getPriceOnDay(x['Symbol'], x['date_plus_1']), axis=1)"
   ]
  },
  {
   "cell_type": "code",
   "execution_count": null,
   "metadata": {},
   "outputs": [],
   "source": [
    "df_ECT['return_28'] = df_ECT.apply(lambda x: returnOnInvestment(x['Price'], x['price_plus_28']), axis=1)\n",
    "df_ECT['return_7'] = df_ECT.apply(lambda x: returnOnInvestment(x['Price'], x['price_plus_7']), axis=1)\n",
    "df_ECT['return_1'] = df_ECT.apply(lambda x: returnOnInvestment(x['Price'], x['price_plus_1']), axis=1)\n"
   ]
  },
  {
   "cell_type": "code",
   "execution_count": null,
   "metadata": {},
   "outputs": [],
   "source": [
    "df_ECT['Price'] = df_ECT.apply(lambda x: getPriceOnDay(x['Symbol'], x['Date']), axis=1)\n",
    "df_ECT['price_plus_28'] = df_ECT.apply(lambda x: getPriceOnDay(x['Symbol'], x['date_plus_28']), axis=1)\n",
    "df_ECT['price_plus_7'] = df_ECT.apply(lambda x: getPriceOnDay(x['Symbol'], x['date_plus_7']), axis=1)\n",
    "df_ECT['price_plus_1'] = df_ECT.apply(lambda x: getPriceOnDay(x['Symbol'], x['date_plus_1']), axis=1)\n",
    "df_ECT['return_28'] = df_ECT.apply(lambda x: returnOnInvestment(x['Price'], x['price_plus_28']), axis=1)\n",
    "df_ECT['return_7'] = df_ECT.apply(lambda x: returnOnInvestment(x['Price'], x['price_plus_7']), axis=1)\n",
    "df_ECT['return_1'] = df_ECT.apply(lambda x: returnOnInvestment(x['Price'], x['price_plus_1']), axis=1)"
   ]
  },
  {
   "cell_type": "code",
   "execution_count": null,
   "metadata": {},
   "outputs": [],
   "source": [
    "df_ECT = df_ECT.reset_index()"
   ]
  },
  {
   "cell_type": "code",
   "execution_count": null,
   "metadata": {},
   "outputs": [],
   "source": [
    "df_ECT"
   ]
  },
  {
   "cell_type": "code",
   "execution_count": null,
   "metadata": {},
   "outputs": [],
   "source": [
    "df_ECT = df_ECT.drop(columns=['rating', 'return'])"
   ]
  },
  {
   "cell_type": "code",
   "execution_count": null,
   "metadata": {},
   "outputs": [],
   "source": [
    "def rating(price_movement):\n",
    "    if price_movement > .03:\n",
    "        return 'buy'\n",
    "    elif price_movement < -.03:\n",
    "        return 'sell'\n",
    "    else:\n",
    "        return 'hold'"
   ]
  },
  {
   "cell_type": "code",
   "execution_count": null,
   "metadata": {},
   "outputs": [],
   "source": [
    "df_ECT['rating_28'] = df_ECT.apply(lambda x: rating(x['return_28']), axis=1)\n",
    "df_ECT['rating_7'] = df_ECT.apply(lambda x: rating(x['return_7']), axis=1)\n",
    "df_ECT['rating_1'] = df_ECT.apply(lambda x: rating(x['return_1']), axis=1)"
   ]
  },
  {
   "cell_type": "code",
   "execution_count": null,
   "metadata": {},
   "outputs": [],
   "source": [
    "df_ECT['body_str'] = df_ECT['body'].apply(lambda x : ' '.join(preprocess_text(x, min_word_length=4)))"
   ]
  },
  {
   "cell_type": "code",
   "execution_count": null,
   "metadata": {},
   "outputs": [],
   "source": [
    "df_ECT = df_ECT.drop(columns=['body_tokens', 'index'])"
   ]
  },
  {
   "cell_type": "code",
   "execution_count": null,
   "metadata": {},
   "outputs": [],
   "source": [
    "df_ECT"
   ]
  },
  {
   "cell_type": "code",
   "execution_count": null,
   "metadata": {},
   "outputs": [],
   "source": [
    "df_ECT_no_tokens = df_ECT.drop(columns=['body', 'body_tokens', 'body_str'])\n",
    "df_ECT_no_tokens.to_csv('ECTs_with_price_and_rating.csv')"
   ]
  },
  {
   "cell_type": "code",
   "execution_count": null,
   "metadata": {},
   "outputs": [],
   "source": [
    "shuffled = df_ECT.sample(frac=1)\n",
    "result = np.array_split(shuffled, 2)\n",
    "train_df = result[0]\n",
    "test_df = result[1]\n",
    "train_df\n"
   ]
  },
  {
   "cell_type": "code",
   "execution_count": null,
   "metadata": {},
   "outputs": [],
   "source": [
    "import re\n",
    "\n",
    "# Custom preprocessing function\n",
    "from utils import preprocess_text\n",
    "\n",
    "# Vectorization methods\n",
    "from sklearn.feature_extraction.text import CountVectorizer, TfidfVectorizer"
   ]
  },
  {
   "cell_type": "code",
   "execution_count": null,
   "metadata": {},
   "outputs": [],
   "source": [
    "train_df = result[0]\n",
    "test_df = result[1]"
   ]
  },
  {
   "cell_type": "code",
   "execution_count": null,
   "metadata": {},
   "outputs": [],
   "source": [
    "train_df.head()"
   ]
  },
  {
   "cell_type": "markdown",
   "metadata": {},
   "source": [
    "## CountVectorizer\n",
    "\n",
    "[`CountVectorizer`](https://scikit-learn.org/stable/modules/generated/sklearn.feature_extraction.text.CountVectorizer.html) is a simple tool that turns raw text into feature vectors. We vectorize the text in 2 steps: \n",
    "1. First, we `fit`, the training data to our vectorizer to compute the vocabulary (feature set). \n",
    "2. Then, we `transform` with our text for both train and test to count the number occurrences for each word in our vocabulary.\n",
    "\n",
    "The output of the CountVectorizer's `transform` task is a [sparse matrix](https://docs.scipy.org/doc/scipy/reference/generated/scipy.sparse.csr_matrix.html#scipy.sparse.csr_matrix), which condenses the matrix values to avoid storing an excessive amount of zeros."
   ]
  },
  {
   "cell_type": "code",
   "execution_count": null,
   "metadata": {},
   "outputs": [],
   "source": [
    "vectorizer = CountVectorizer()\n",
    "\n",
    "# learn the vocabulary for the training set\n",
    "vectorizer.fit(train_df['body_str'])\n",
    "\n",
    "# count the number of occurrences for our vocabulary terms within train & test\n",
    "count_train_vecs = vectorizer.transform(train_df['body_str'])\n",
    "count_test_vecs = vectorizer.transform(test_df['body_str'])"
   ]
  },
  {
   "cell_type": "markdown",
   "metadata": {},
   "source": [
    "#### What is the size of our vocabulary?"
   ]
  },
  {
   "cell_type": "code",
   "execution_count": null,
   "metadata": {},
   "outputs": [],
   "source": [
    "print(f\"Number of documents: {count_train_vecs.shape[0]}\")\n",
    "print(f\"Size of vocabulary: {count_train_vecs.shape[1]}\")"
   ]
  },
  {
   "cell_type": "code",
   "execution_count": null,
   "metadata": {},
   "outputs": [],
   "source": [
    "# Train\n",
    "print(f\"Number of TRAINING non-zero features: {count_train_vecs.nnz}\")\n",
    "print(f\"Number of TRAINING zero features: {(count_train_vecs.shape[0]*count_train_vecs.shape[1])-count_train_vecs.nnz}\")\n",
    "\n",
    "# Test\n",
    "print(f\"Number of TEST non-zero features: {count_test_vecs.nnz}\")\n",
    "print(f\"Number of TEST zero features: {(count_test_vecs.shape[0]*count_test_vecs.shape[1])-count_test_vecs.nnz}\")"
   ]
  },
  {
   "cell_type": "code",
   "execution_count": null,
   "metadata": {},
   "outputs": [],
   "source": [
    "tfidf_vectorizer = TfidfVectorizer()\n",
    "tfidf_vectorizer.fit(train_df['body_str'])\n",
    "tfidf_train_vecs = tfidf_vectorizer.transform(train_df['body_str'])\n",
    "tfidf_test_vecs = tfidf_vectorizer.transform(test_df['body_str'])"
   ]
  },
  {
   "cell_type": "code",
   "execution_count": null,
   "metadata": {},
   "outputs": [],
   "source": [
    "df_tfidf = pd.DataFrame(tfidf_train_vecs.toarray(), \n",
    "                         columns=tfidf_vectorizer.get_feature_names())[:30].T\n",
    "df_tfidf.tail(25).style.background_gradient()"
   ]
  },
  {
   "cell_type": "code",
   "execution_count": null,
   "metadata": {},
   "outputs": [],
   "source": [
    "from sklearn.linear_model import LogisticRegression"
   ]
  },
  {
   "cell_type": "code",
   "execution_count": null,
   "metadata": {},
   "outputs": [],
   "source": [
    "count_logReg = LogisticRegression(multi_class=\"auto\", max_iter=100000)\n",
    "count_logReg.fit(count_train_vecs, train_df['rating_1'])\n",
    "\n",
    "# Calculate the percentage of accurate predictions\n",
    "accuracy = count_logReg.score(count_test_vecs, test_df['rating_1'])\n",
    "print(f\"LogReg CountVectorizer accuracy: {accuracy}\")"
   ]
  },
  {
   "cell_type": "code",
   "execution_count": null,
   "metadata": {},
   "outputs": [],
   "source": [
    "tfidf_logReg = LogisticRegression(multi_class=\"auto\", max_iter=100000)\n",
    "tfidf_logReg.fit(tfidf_train_vecs, train_df['rating_1'])\n",
    "\n",
    "# Calculate the percentage of accurate predictions\n",
    "accuracy = tfidf_logReg.score(tfidf_test_vecs, test_df['rating_1'])\n",
    "print(f\"LogReg TF-IDF accuracy: {accuracy}\")\n"
   ]
  },
  {
   "cell_type": "code",
   "execution_count": null,
   "metadata": {},
   "outputs": [],
   "source": [
    "count_logReg = LogisticRegression(multi_class=\"auto\", max_iter=100000)\n",
    "count_logReg.fit(count_train_vecs, train_df['rating_7'])\n",
    "\n",
    "# Calculate the percentage of accurate predictions\n",
    "accuracy = count_logReg.score(count_test_vecs, test_df['rating_7'])\n",
    "print(f\"LogReg CountVectorizer accuracy: {accuracy}\")"
   ]
  },
  {
   "cell_type": "code",
   "execution_count": null,
   "metadata": {},
   "outputs": [],
   "source": [
    "tfidf_logReg = LogisticRegression(multi_class=\"auto\", max_iter=100000)\n",
    "tfidf_logReg.fit(tfidf_train_vecs, train_df['rating_7'])\n",
    "\n",
    "# Calculate the percentage of accurate predictions\n",
    "accuracy = tfidf_logReg.score(tfidf_test_vecs, test_df['rating_7'])\n",
    "print(f\"LogReg TF-IDF accuracy: {accuracy}\")"
   ]
  },
  {
   "cell_type": "code",
   "execution_count": null,
   "metadata": {},
   "outputs": [],
   "source": [
    "count_logReg = LogisticRegression(multi_class=\"auto\", max_iter=100000)\n",
    "count_logReg.fit(count_train_vecs, train_df['rating_28'])\n",
    "\n",
    "# Calculate the percentage of accurate predictions\n",
    "accuracy = count_logReg.score(count_test_vecs, test_df['rating_28'])\n",
    "print(f\"LogReg CountVectorizer accuracy: {accuracy}\")"
   ]
  },
  {
   "cell_type": "code",
   "execution_count": null,
   "metadata": {},
   "outputs": [],
   "source": [
    "tfidf_logReg = LogisticRegression(multi_class=\"auto\", max_iter=100000)\n",
    "tfidf_logReg.fit(tfidf_train_vecs, train_df['rating_28'])\n",
    "\n",
    "# Calculate the percentage of accurate predictions\n",
    "accuracy = tfidf_logReg.score(tfidf_test_vecs, test_df['rating_28'])\n",
    "print(f\"LogReg TF-IDF accuracy: {accuracy}\")"
   ]
  },
  {
   "cell_type": "code",
   "execution_count": null,
   "metadata": {},
   "outputs": [],
   "source": [
    "test_df[test_df['rating_1']=='buy'].shape"
   ]
  },
  {
   "cell_type": "code",
   "execution_count": null,
   "metadata": {},
   "outputs": [],
   "source": [
    "test_df[test_df['rating_1']=='sell'].shape"
   ]
  },
  {
   "cell_type": "code",
   "execution_count": null,
   "metadata": {},
   "outputs": [],
   "source": [
    "test_df[test_df['rating_1']=='hold'].shape"
   ]
  },
  {
   "cell_type": "code",
   "execution_count": null,
   "metadata": {},
   "outputs": [],
   "source": [
    "147 / 202"
   ]
  },
  {
   "cell_type": "code",
   "execution_count": null,
   "metadata": {},
   "outputs": [],
   "source": [
    "import pandas as pd\n",
    "import os\n",
    "import nltk\n",
    "import datetime as dt\n",
    "import numpy as np\n",
    "from datetime import timedelta\n",
    "from utils import preprocess_text"
   ]
  },
  {
   "cell_type": "code",
   "execution_count": null,
   "metadata": {},
   "outputs": [],
   "source": [
    "#load price data\n",
    "price_file_path = os.path.join('..', 'combined_sandp500_data2015to2020.csv')\n",
    "pricing_df_500 = pd.read_csv(price_file_path)\n",
    "pricing_df_500['Date'] = pd.to_datetime(pricing_df['Date'])\n",
    "pricing_df_500 = pricing_df_500.drop(columns=['Unnamed: 0'])"
   ]
  },
  {
   "cell_type": "code",
   "execution_count": null,
   "metadata": {},
   "outputs": [],
   "source": [
    "pricing_df_500"
   ]
  },
  {
   "cell_type": "code",
   "execution_count": null,
   "metadata": {},
   "outputs": [],
   "source": [
    "file_path = os.path.join('..', 'transcript_list_500.csv')\n",
    "df_ECT_500 = pd.read_csv(file_path)\n",
    "df_ECT_500"
   ]
  },
  {
   "cell_type": "code",
   "execution_count": null,
   "metadata": {},
   "outputs": [],
   "source": [
    "def getPriceOnDayExact500(search_ticker, search_date):\n",
    "    return pricing_df_500[(pricing_df_500[\"Date\"]==search_date) & (pricing_df_500[\"Symbol\"]==search_ticker)].iloc[0]['Close']    \n",
    "\n",
    "#the below function will return closing price given a ticker and day, if the market was open day, if it was not, it checks the next day, and then the day after that\n",
    "def getPriceOnDay500(search_ticker, search_date):\n",
    "    dates = pricing_df[pricing_df['Symbol']==search_ticker][\"Date\"].tolist()\n",
    "    if (search_date in dates):\n",
    "        return pricing_df_500[(pricing_df_500[\"Date\"]==search_date) & (pricing_df_500[\"Symbol\"]==search_ticker)].iloc[0]['Close']\n",
    "    elif ( (search_date + dt.timedelta(1)) in dates):\n",
    "        search_date = search_date + dt.timedelta(1)\n",
    "        return pricing_df_500[(pricing_df_500[\"Date\"]==search_date) & (pricing_df_500[\"Symbol\"]==search_ticker)].iloc[0]['Close']\n",
    "    elif ( (search_date + dt.timedelta(2)) in dates):\n",
    "        search_date = search_date + dt.timedelta(2)\n",
    "        return pricing_df_500[(pricing_df_500[\"Date\"]==search_date) & (pricing_df_500[\"Symbol\"]==search_ticker)].iloc[0]['Close']\n",
    "    else:\n",
    "        return None\n",
    "\n",
    "#calculate return given beginning and ending price\n",
    "def returnOnInvestment(begin_price, end_price):\n",
    "    return_on_investment = (end_price/begin_price)-1\n",
    "    return return_on_investment"
   ]
  },
  {
   "cell_type": "code",
   "execution_count": null,
   "metadata": {},
   "outputs": [],
   "source": []
  },
  {
   "cell_type": "code",
   "execution_count": null,
   "metadata": {},
   "outputs": [],
   "source": [
    "df_ECT_500['date_plus_28'] = pd.to_datetime(df_ECT_500['date']) + dt.timedelta(28)\n",
    "df_ECT_500['date_plus_7'] = pd.to_datetime(df_ECT_500['date']) + dt.timedelta(7)\n",
    "df_ECT_500['date_plus_1'] = pd.to_datetime(df_ECT_500['date']) + dt.timedelta(1)\n",
    "df_ECT_500['date_plus_28'] = pd.to_datetime(df_ECT_500['date_plus_28'], format='%Y-%m-%d', errors='coerce').dt.date\n",
    "df_ECT_500['date_plus_7'] = pd.to_datetime(df_ECT_500['date_plus_7'], format='%Y-%m-%d', errors='coerce').dt.date\n",
    "df_ECT_500['date_plus_1'] = pd.to_datetime(df_ECT_500['date_plus_1'], format='%Y-%m-%d', errors='coerce').dt.date\n",
    "df_ECT_500['date'] = pd.to_datetime(df_ECT_500['date'], format='%Y-%m-%d', errors='coerce').dt.date\n",
    "pricing_df_500['Date'] = pd.to_datetime(pricing_df_500['Date'], format='%Y-%m-%d', errors='coerce').dt.date"
   ]
  },
  {
   "cell_type": "code",
   "execution_count": null,
   "metadata": {},
   "outputs": [],
   "source": [
    "df_ECT_500['Price'] = df_ECT_500.apply(lambda x: getPriceOnDay500(x['Symbol'], x['date']), axis=1)\n",
    "df_ECT_500['price_plus_28'] = df_ECT_500.apply(lambda x: getPriceOnDay500(x['Symbol'], x['date_plus_28']), axis=1)\n",
    "df_ECT_500['price_plus_7'] = df_ECT_500.apply(lambda x: getPriceOnDay500(x['Symbol'], x['date_plus_7']), axis=1)\n",
    "df_ECT_500['price_plus_1'] = df_ECT_500.apply(lambda x: getPriceOnDay500(x['Symbol'], x['date_plus_1']), axis=1)\n",
    "df_ECT_500['return_28'] = df_ECT_500.apply(lambda x: returnOnInvestment(x['Price'], x['price_plus_28']), axis=1)\n",
    "df_ECT_500['return_7'] = df_ECT_500.apply(lambda x: returnOnInvestment(x['Price'], x['price_plus_7']), axis=1)\n",
    "df_ECT_500['return_1'] = df_ECT_500.apply(lambda x: returnOnInvestment(x['Price'], x['price_plus_1']), axis=1)\n"
   ]
  },
  {
   "cell_type": "code",
   "execution_count": null,
   "metadata": {},
   "outputs": [],
   "source": [
    "df_ECT_500['rating_28'] = df_ECT_500.apply(lambda x: rating(x['return_28']), axis=1)\n",
    "df_ECT_500['rating_7'] = df_ECT_500.apply(lambda x: rating(x['return_7']), axis=1)\n",
    "df_ECT_500['rating_1'] = df_ECT_500.apply(lambda x: rating(x['return_1']), axis=1)"
   ]
  },
  {
   "cell_type": "code",
   "execution_count": null,
   "metadata": {},
   "outputs": [],
   "source": [
    "df_ECT_500.to_csv('df_ECT_500.csv', index=False)"
   ]
  },
  {
   "cell_type": "code",
   "execution_count": null,
   "metadata": {},
   "outputs": [],
   "source": [
    "df_ECT_500 = pd.read_csv('df_ECT_500.csv')"
   ]
  },
  {
   "cell_type": "code",
   "execution_count": null,
   "metadata": {},
   "outputs": [],
   "source": [
    "titles = df_ECT_500['title'].tolist()\n",
    "#titles\n",
    "df_ECT_500 = df_ECT_500.set_index('title')\n",
    "\n",
    "\n"
   ]
  },
  {
   "cell_type": "code",
   "execution_count": null,
   "metadata": {},
   "outputs": [],
   "source": [
    "df_ECT_500['body'] = ''\n",
    "df_ECT_500['body_tokens'] = ''"
   ]
  },
  {
   "cell_type": "code",
   "execution_count": null,
   "metadata": {},
   "outputs": [],
   "source": [
    "for title in titles:\n",
    "    file_path = os.path.join('..', 'transcripts', 'sandp500', title +'.txt')\n",
    "    try:        \n",
    "        file = open(file_path,mode='r')\n",
    "        text = file.read()\n",
    "        file.close()\n",
    "        processed_text = preprocess_text(text)\n",
    "        df_ECT_500.at[title, 'body'] = text\n",
    "        df_ECT_500.at[title, 'body_tokens'] = processed_text\n",
    "    except:\n",
    "        continue"
   ]
  },
  {
   "cell_type": "code",
   "execution_count": null,
   "metadata": {},
   "outputs": [],
   "source": [
    "df_ECT_500_with = df_ECT_500.reset_index()"
   ]
  },
  {
   "cell_type": "code",
   "execution_count": null,
   "metadata": {},
   "outputs": [],
   "source": []
  },
  {
   "cell_type": "code",
   "execution_count": null,
   "metadata": {},
   "outputs": [],
   "source": [
    "df_ECT_500_with_text = df_ECT_500\n",
    "df_ECT_500_with_text.to_csv(\"df_ECT_500.csv\", index=False)"
   ]
  },
  {
   "cell_type": "code",
   "execution_count": null,
   "metadata": {},
   "outputs": [],
   "source": [
    "df_ECT_500['body_str'] = df_ECT_500['body'].apply(lambda x : ' '.join(preprocess_text(x, min_word_length=4)))"
   ]
  },
  {
   "cell_type": "code",
   "execution_count": null,
   "metadata": {},
   "outputs": [],
   "source": [
    "df_ECT_500.head(50)"
   ]
  },
  {
   "cell_type": "code",
   "execution_count": null,
   "metadata": {},
   "outputs": [],
   "source": [
    "df_ECT_500['tfidf_vector'] = df_ECT_500[''].apply(lambda x: tfidf_vectorizer.fit(x))"
   ]
  },
  {
   "cell_type": "code",
   "execution_count": null,
   "metadata": {},
   "outputs": [],
   "source": [
    "# Creating a dataframe with 80% \n",
    "# values of original dataframe \n",
    "train_df = df_ECT_500.sample(frac = 0.80) \n",
    "  \n",
    "# Creating dataframe with  \n",
    "# rest of the 20% values \n",
    "test_df = df_ECT_500.drop(train_df.index) \n",
    "  \n",
    "train_df.shape"
   ]
  },
  {
   "cell_type": "code",
   "execution_count": null,
   "metadata": {},
   "outputs": [],
   "source": [
    "x = tfidf_train_vecs[0].toarray()\n",
    "tfidf_train_vecs.shape[0]"
   ]
  },
  {
   "cell_type": "code",
   "execution_count": null,
   "metadata": {},
   "outputs": [],
   "source": [
    "import re\n",
    "\n",
    "# Vectorization methods\n",
    "from sklearn.feature_extraction.text import CountVectorizer, TfidfVectorizer"
   ]
  },
  {
   "cell_type": "code",
   "execution_count": null,
   "metadata": {},
   "outputs": [],
   "source": [
    "vectorizer = CountVectorizer()\n",
    "\n",
    "# learn the vocabulary for the training set\n",
    "vectorizer.fit(train_df['body_str'])\n",
    "\n",
    "# count the number of occurrences for our vocabulary terms within train & test\n",
    "count_train_vecs = vectorizer.transform(train_df['body_str'])\n",
    "count_test_vecs = vectorizer.transform(test_df['body_str'])\n"
   ]
  },
  {
   "cell_type": "code",
   "execution_count": null,
   "metadata": {},
   "outputs": [],
   "source": [
    "print(f\"Number of documents: {count_train_vecs.shape[0]}\")\n",
    "print(f\"Size of vocabulary: {count_train_vecs.shape[1]}\")"
   ]
  },
  {
   "cell_type": "code",
   "execution_count": null,
   "metadata": {},
   "outputs": [],
   "source": [
    "# Train\n",
    "print(f\"Number of TRAINING non-zero features: {count_train_vecs.nnz}\")\n",
    "print(f\"Number of TRAINING zero features: {(count_train_vecs.shape[0]*count_train_vecs.shape[1])-count_train_vecs.nnz}\")\n",
    "\n",
    "# Test\n",
    "print(f\"Number of TEST non-zero features: {count_test_vecs.nnz}\")\n",
    "print(f\"Number of TEST zero features: {(count_test_vecs.shape[0]*count_test_vecs.shape[1])-count_test_vecs.nnz}\")"
   ]
  },
  {
   "cell_type": "code",
   "execution_count": null,
   "metadata": {},
   "outputs": [],
   "source": [
    "tfidf_vectorizer = TfidfVectorizer(ngram_range=(1, 3))\n",
    "tfidf_vectorizer.fit(train_df['body_str'])\n",
    "tfidf_train_vecs = tfidf_vectorizer.transform(train_df['body_str'])\n",
    "tfidf_test_vecs = tfidf_vectorizer.transform(test_df['body_str'])"
   ]
  },
  {
   "cell_type": "code",
   "execution_count": null,
   "metadata": {},
   "outputs": [],
   "source": [
    "from sklearn.linear_model import LogisticRegression"
   ]
  },
  {
   "cell_type": "code",
   "execution_count": null,
   "metadata": {},
   "outputs": [],
   "source": [
    "count_logReg_1 = LogisticRegression(multi_class=\"auto\", max_iter=100000)\n",
    "count_logReg_1.fit(count_train_vecs, train_df['rating_1'])\n",
    "\n",
    "# Calculate the percentage of accurate predictions\n",
    "accuracy_count_logReg_1 = count_logReg_1.score(count_test_vecs, test_df['rating_1'])\n",
    "print(f\"LogReg CountVectorizer accuracy: {accuracy_count_logReg_1}\")"
   ]
  },
  {
   "cell_type": "code",
   "execution_count": null,
   "metadata": {},
   "outputs": [],
   "source": [
    "tfidf_logReg_1 = LogisticRegression(multi_class=\"auto\", max_iter=100000)\n",
    "tfidf_logReg_1.fit(tfidf_train_vecs, train_df['rating_1'])\n",
    "\n",
    "# Calculate the percentage of accurate predictions\n",
    "accuracy_tfidf_logReg_1 = tfidf_logReg_1.score(tfidf_test_vecs, test_df['rating_1'])\n",
    "print(f\"LogReg TF-IDF accuracy: {accuracy_tfidf_logReg_1}\")"
   ]
  },
  {
   "cell_type": "code",
   "execution_count": null,
   "metadata": {},
   "outputs": [],
   "source": [
    "count_logReg_7 = LogisticRegression(multi_class=\"auto\", max_iter=100000)\n",
    "count_logReg_7.fit(count_train_vecs, train_df['rating_7'])\n",
    "\n",
    "# Calculate the percentage of accurate predictions\n",
    "accuracy_count_logReg_7 = count_logReg_7.score(count_test_vecs, test_df['rating_7'])\n",
    "print(f\"LogReg CountVectorizer accuracy: {accuracy_count_logReg_7}\")"
   ]
  },
  {
   "cell_type": "code",
   "execution_count": null,
   "metadata": {},
   "outputs": [],
   "source": [
    "tfidf_logReg_7 = LogisticRegression(multi_class=\"auto\", max_iter=100000)\n",
    "tfidf_logReg_7.fit(tfidf_train_vecs, train_df['rating_7'])\n",
    "\n",
    "# Calculate the percentage of accurate predictions\n",
    "accuracy_tfidf_logReg_7 = tfidf_logReg_7.score(tfidf_test_vecs, test_df['rating_7'])\n",
    "print(f\"LogReg TF-IDF accuracy: {accuracy_tfidf_logReg_7}\")"
   ]
  },
  {
   "cell_type": "code",
   "execution_count": null,
   "metadata": {},
   "outputs": [],
   "source": [
    "count_logReg_28 = LogisticRegression(multi_class=\"auto\", max_iter=100000)\n",
    "count_logReg_28.fit(count_train_vecs, train_df['rating_28'])\n",
    "\n",
    "# Calculate the percentage of accurate predictions\n",
    "accuracy_count_logReg_28 = count_logReg_28.score(count_test_vecs, test_df['rating_28'])\n",
    "print(f\"LogReg CountVectorizer accuracy: {accuracy_count_logReg_28}\")"
   ]
  },
  {
   "cell_type": "code",
   "execution_count": null,
   "metadata": {},
   "outputs": [],
   "source": [
    "tfidf_logReg_28 = LogisticRegression(multi_class=\"auto\", max_iter=100000)\n",
    "tfidf_logReg_28.fit(tfidf_train_vecs, train_df['rating_28'])\n",
    "\n",
    "# Calculate the percentage of accurate predictions\n",
    "accuracy_tfidf_logReg_28 = tfidf_logReg_28.score(tfidf_test_vecs, test_df['rating_28'])\n",
    "print(f\"LogReg TF-IDF accuracy: {accuracy_tfidf_logReg_28}\")"
   ]
  },
  {
   "cell_type": "code",
   "execution_count": null,
   "metadata": {},
   "outputs": [],
   "source": [
    "accuracy_dict = {\n",
    "    \"model\": [\"count accuracy:\", \"tfidf accuracy:\"],\n",
    "    \"t+1\": [accuracy_count_logReg_1, accuracy_tfidf_logReg_1],\n",
    "    \"t+7\": [accuracy_count_logReg_7, accuracy_tfidf_logReg_7],\n",
    "    \"t+28\": [accuracy_count_logReg_28, accuracy_tfidf_logReg_28]\n",
    "}"
   ]
  },
  {
   "cell_type": "code",
   "execution_count": null,
   "metadata": {},
   "outputs": [],
   "source": [
    "accuracy_df = pd.DataFrame(accuracy_dict)"
   ]
  },
  {
   "cell_type": "code",
   "execution_count": null,
   "metadata": {},
   "outputs": [],
   "source": [
    "accuracy_df_1 = accuracy_df\n",
    "accuracy_df_1"
   ]
  },
  {
   "cell_type": "code",
   "execution_count": null,
   "metadata": {},
   "outputs": [],
   "source": []
  },
  {
   "cell_type": "code",
   "execution_count": null,
   "metadata": {},
   "outputs": [],
   "source": [
    "predictions = tfidf_logReg_1.predict(tfidf_test_vecs)\n",
    "\n",
    "print(f\"30 Predictions: {predictions[:30]}\")\n",
    "print(f\"30 Actual Labels: {test_df['rating_1'][:30].to_list()}\")"
   ]
  },
  {
   "cell_type": "code",
   "execution_count": null,
   "metadata": {},
   "outputs": [],
   "source": [
    "probs = tfidf_logReg_1.predict_proba(tfidf_test_vecs)\n",
    "pred_df = pd.DataFrame({\n",
    "    \"Prediction\": predictions,\n",
    "    \"Actual\": test_df['rating_1'],\n",
    "    \"P(Buy)\": [p[0] for p in probs],\n",
    "    \"P(Hold)\": [p[1] for p in probs],\n",
    "    \"P(Sell)\": [p[2] for p in probs]\n",
    "    }).reset_index(drop=True)\n",
    "\n",
    "pred_df.head(5)"
   ]
  },
  {
   "cell_type": "code",
   "execution_count": null,
   "metadata": {},
   "outputs": [],
   "source": [
    "pred_df[(pred_df['Prediction'] == 'buy') & (pred_df['Actual'] == 'buy')]"
   ]
  },
  {
   "cell_type": "code",
   "execution_count": null,
   "metadata": {},
   "outputs": [],
   "source": [
    "pred_df[(pred_df['Prediction'] == 'sell') & (pred_df['Actual'] == 'sell')]"
   ]
  },
  {
   "cell_type": "code",
   "execution_count": null,
   "metadata": {},
   "outputs": [],
   "source": [
    "pred_df[pred_df['Prediction'] != pred_df['Actual']]"
   ]
  },
  {
   "cell_type": "code",
   "execution_count": null,
   "metadata": {},
   "outputs": [],
   "source": [
    "pred_df.shape"
   ]
  },
  {
   "cell_type": "code",
   "execution_count": null,
   "metadata": {},
   "outputs": [],
   "source": [
    "1 - (183 / 791)"
   ]
  },
  {
   "cell_type": "code",
   "execution_count": null,
   "metadata": {},
   "outputs": [],
   "source": [
    "from sklearn.metrics import confusion_matrix\n",
    "\n",
    "confusion_matrix(test_df['rating_1'],predictions)"
   ]
  },
  {
   "cell_type": "code",
   "execution_count": null,
   "metadata": {},
   "outputs": [],
   "source": [
    "from sklearn.metrics import plot_confusion_matrix\n",
    "plot_confusion_matrix(tfidf_logReg_1, tfidf_test_vecs, test_df['rating_1'], cmap=\"Blues\")"
   ]
  },
  {
   "cell_type": "code",
   "execution_count": null,
   "metadata": {},
   "outputs": [],
   "source": [
    "from sklearn.metrics import precision_score, recall_score, f1_score\n",
    "precision_score(test_df['rating_1'], predictions, average='micro')"
   ]
  },
  {
   "cell_type": "code",
   "execution_count": null,
   "metadata": {},
   "outputs": [],
   "source": [
    "from sklearn.ensemble import RandomForestClassifier"
   ]
  },
  {
   "cell_type": "code",
   "execution_count": null,
   "metadata": {},
   "outputs": [],
   "source": [
    "rf = RandomForestClassifier(n_estimators=100)\n",
    "X_train = tfidf_train_vecs\n",
    "y_train = train_df['rating_1']\n",
    "X_test = tfidf_test_vecs\n",
    "y_test = test_df['rating_1']\n",
    "rf = rf.fit(X_train, y_train)\n",
    "rf.score(X_test, y_test)\n"
   ]
  },
  {
   "cell_type": "code",
   "execution_count": null,
   "metadata": {},
   "outputs": [],
   "source": [
    "plot_confusion_matrix(rf, X_test, y_test, cmap=\"Blues\")"
   ]
  },
  {
   "cell_type": "code",
   "execution_count": null,
   "metadata": {},
   "outputs": [],
   "source": [
    "importances = rf.feature_importances_\n",
    "feature_names = tfidf_vectorizer.get_feature_names()\n",
    "df = pd.DataFrame({\"Feature\": feature_names,\n",
    "                   \"Importance\": importances\n",
    "                  })\n"
   ]
  },
  {
   "cell_type": "code",
   "execution_count": null,
   "metadata": {},
   "outputs": [],
   "source": [
    "df.sort_values(\"Importance\", ascending=False).head(10)"
   ]
  },
  {
   "cell_type": "code",
   "execution_count": null,
   "metadata": {},
   "outputs": [],
   "source": [
    "from sklearn.model_selection import GridSearchCV\n",
    "param_grid = {'C': [0.001, 0.01, 1, 5, 10, 50],\n",
    "              'gamma': [0.0001, 0.0005, 0.001, 0.005, 0.05, 0.5],\n",
    "             }\n",
    "\n",
    "model = LogisticRegression()\n",
    "\n",
    "grid = GridSearchCV(model, param_grid, verbose=3, scoring='precision')"
   ]
  },
  {
   "cell_type": "code",
   "execution_count": null,
   "metadata": {},
   "outputs": [],
   "source": []
  },
  {
   "cell_type": "code",
   "execution_count": null,
   "metadata": {},
   "outputs": [],
   "source": [
    "from sklearn.pipeline import Pipeline\n",
    "# Create first pipeline for base without reducing features.\n",
    "\n",
    "pipe = Pipeline([('classifier' , RandomForestClassifier())])\n",
    "# pipe = Pipeline([('classifier', RandomForestClassifier())])\n",
    "\n",
    "# Create param grid.\n",
    "\n",
    "param_grid = [\n",
    "    {'classifier' : [LogisticRegression()],\n",
    "     'classifier__penalty' : ['l1', 'l2'],\n",
    "    'classifier__C' : np.logspace(-4, 4, 20),\n",
    "    'classifier__solver' : ['liblinear']},\n",
    "    {'classifier' : [RandomForestClassifier()],\n",
    "    'classifier__n_estimators' : list(range(10,101,10)),\n",
    "    'classifier__max_features' : list(range(6,32,5))}\n",
    "]\n",
    "\n",
    "# Create grid search object\n",
    "\n",
    "clf = GridSearchCV(pipe, param_grid = param_grid, cv = 5, verbose=True, n_jobs=-1)\n",
    "\n",
    "# Fit on data\n",
    "\n",
    "best_clf = clf.fit(X_train, y_train)"
   ]
  },
  {
   "cell_type": "code",
   "execution_count": null,
   "metadata": {},
   "outputs": [],
   "source": [
    "predictions_test = best_clf.predict(X_test)"
   ]
  },
  {
   "cell_type": "code",
   "execution_count": null,
   "metadata": {},
   "outputs": [],
   "source": [
    "predictions_train = best_clf.predict(X_train)"
   ]
  },
  {
   "cell_type": "code",
   "execution_count": null,
   "metadata": {},
   "outputs": [],
   "source": [
    "from sklearn.metrics import classification_report\n",
    "print(classification_report(y_test, predictions_test,\n",
    "                            target_names=[\"sell\", \"hold\", \"buy\"]))"
   ]
  },
  {
   "cell_type": "code",
   "execution_count": null,
   "metadata": {},
   "outputs": [],
   "source": [
    "train_df['predictions'] = pd.Series(predictions_train)\n",
    "train_df[rejoin_df]"
   ]
  },
  {
   "cell_type": "code",
   "execution_count": null,
   "metadata": {},
   "outputs": [],
   "source": [
    "test_df['predictions'] = pd.Series(predictions_test)"
   ]
  },
  {
   "cell_type": "code",
   "execution_count": null,
   "metadata": {},
   "outputs": [],
   "source": [
    "train_df.set_index('key').join(test_df.set_index('key'))"
   ]
  },
  {
   "cell_type": "code",
   "execution_count": null,
   "metadata": {},
   "outputs": [],
   "source": [
    "frames = []\n",
    "rejoin_df = pd.concat([test_df, train_df])"
   ]
  },
  {
   "cell_type": "code",
   "execution_count": null,
   "metadata": {},
   "outputs": [],
   "source": [
    "rejoin_df = rejoin_df.sort_index()"
   ]
  },
  {
   "cell_type": "code",
   "execution_count": null,
   "metadata": {},
   "outputs": [],
   "source": [
    "rejoin_df[rejoin_df['return_1'] == 'hold']"
   ]
  },
  {
   "cell_type": "code",
   "execution_count": null,
   "metadata": {},
   "outputs": [],
   "source": [
    "rejoin_df[rejoin_df['predictions'] == rejoin_df['return_1']]"
   ]
  },
  {
   "cell_type": "code",
   "execution_count": null,
   "metadata": {},
   "outputs": [],
   "source": [
    "print(list(range(10,101,10)))"
   ]
  },
  {
   "cell_type": "code",
   "execution_count": null,
   "metadata": {},
   "outputs": [],
   "source": [
    "print(list(range(100,800,100)))"
   ]
  },
  {
   "cell_type": "code",
   "execution_count": null,
   "metadata": {},
   "outputs": [],
   "source": []
  }
 ],
 "metadata": {
  "kernelspec": {
   "display_name": "Python 3.10.5 64-bit",
   "language": "python",
   "name": "python3"
  },
  "language_info": {
   "codemirror_mode": {
    "name": "ipython",
    "version": 3
   },
   "file_extension": ".py",
   "mimetype": "text/x-python",
   "name": "python",
   "nbconvert_exporter": "python",
   "pygments_lexer": "ipython3",
   "version": "3.10.5"
  },
  "vscode": {
   "interpreter": {
    "hash": "440d451a8cb861fd892fa5cffb1e989522135964a45ddfc7003ce2d688a295eb"
   }
  }
 },
 "nbformat": 4,
 "nbformat_minor": 4
}
